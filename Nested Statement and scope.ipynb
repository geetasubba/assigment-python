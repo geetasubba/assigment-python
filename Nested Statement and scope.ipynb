{
 "cells": [
  {
   "cell_type": "code",
   "execution_count": 6,
   "id": "8466a0ce",
   "metadata": {},
   "outputs": [],
   "source": [
    "x=25\n",
    "\n",
    "def printer():\n",
    "    x=50\n",
    "    return x\n",
    "#print(x)\n",
    "#print(printer())"
   ]
  },
  {
   "cell_type": "code",
   "execution_count": 7,
   "id": "fbf2585a",
   "metadata": {},
   "outputs": [
    {
     "name": "stdout",
     "output_type": "stream",
     "text": [
      "25\n"
     ]
    }
   ],
   "source": [
    "print(x)"
   ]
  },
  {
   "cell_type": "code",
   "execution_count": 8,
   "id": "1f8d9cbf",
   "metadata": {},
   "outputs": [
    {
     "name": "stdout",
     "output_type": "stream",
     "text": [
      "50\n"
     ]
    }
   ],
   "source": [
    "print(printer())"
   ]
  },
  {
   "cell_type": "code",
   "execution_count": null,
   "id": "7d7ceacd",
   "metadata": {},
   "outputs": [],
   "source": [
    "#L is for local\n",
    "#E is for Enclosing function locals\n",
    "#G is for Global\n",
    "#B is for Built-in"
   ]
  },
  {
   "cell_type": "code",
   "execution_count": 16,
   "id": "2e0f8ce6",
   "metadata": {},
   "outputs": [],
   "source": [
    "#Lambda num:num**2"
   ]
  },
  {
   "cell_type": "code",
   "execution_count": 44,
   "id": "0f8548ba",
   "metadata": {},
   "outputs": [
    {
     "name": "stdout",
     "output_type": "stream",
     "text": [
      "HelloShriya\n"
     ]
    }
   ],
   "source": [
    "name='This is a global name'\n",
    "\n",
    "def greet():\n",
    "    # Enclosing function\n",
    "    name='Shriya'\n",
    "    \n",
    "    \n",
    "    def hello():\n",
    "        print ('Hello' +name)\n",
    "    \n",
    "    hello()\n",
    "    \n",
    "greet()"
   ]
  },
  {
   "cell_type": "code",
   "execution_count": 29,
   "id": "03e812a4",
   "metadata": {},
   "outputs": [],
   "source": [
    "x=200\n",
    "def printer():\n",
    "    x=50\n",
    "    return x"
   ]
  },
  {
   "cell_type": "code",
   "execution_count": 30,
   "id": "0152ec3e",
   "metadata": {},
   "outputs": [
    {
     "name": "stdout",
     "output_type": "stream",
     "text": [
      "200\n"
     ]
    }
   ],
   "source": [
    "print(x)"
   ]
  },
  {
   "cell_type": "code",
   "execution_count": 31,
   "id": "9fbfcbfb",
   "metadata": {},
   "outputs": [
    {
     "name": "stdout",
     "output_type": "stream",
     "text": [
      "50\n"
     ]
    }
   ],
   "source": [
    "print(printer())"
   ]
  },
  {
   "cell_type": "code",
   "execution_count": 25,
   "id": "f907c1cb",
   "metadata": {},
   "outputs": [
    {
     "name": "stdout",
     "output_type": "stream",
     "text": [
      "x is 50\n",
      "chaned local x to 2\n",
      "x is still 50\n"
     ]
    }
   ],
   "source": [
    "x=50\n",
    "\n",
    "def func(x):\n",
    "    print ('x is',x)\n",
    "    x=2\n",
    "    print('chaned local x to', x)\n",
    "\n",
    "func(x)\n",
    "print('x is still',x)\n"
   ]
  },
  {
   "cell_type": "code",
   "execution_count": 26,
   "id": "5f60022f",
   "metadata": {},
   "outputs": [],
   "source": [
    "#Global statement"
   ]
  },
  {
   "cell_type": "code",
   "execution_count": 40,
   "id": "761c0fb6",
   "metadata": {},
   "outputs": [
    {
     "name": "stdout",
     "output_type": "stream",
     "text": [
      "Before calling func(),x is :  50\n",
      "This function is now using the global x!\n",
      "Because of global x is 50\n",
      "Ran func(), change global x to 2\n",
      "value of x (outside of func()) is :  2\n"
     ]
    }
   ],
   "source": [
    "x= 50\n",
    "def func():\n",
    "    global x\n",
    "    print('This function is now using the global x!')\n",
    "    print('Because of global x is',x)\n",
    "    x=2\n",
    "    print('Ran func(), change global x to', x)\n",
    "    \n",
    "print('Before calling func(),x is : ', x)\n",
    "func()\n",
    "print('value of x (outside of func()) is : ', x)"
   ]
  },
  {
   "cell_type": "code",
   "execution_count": 41,
   "id": "3e14842f",
   "metadata": {},
   "outputs": [],
   "source": [
    "x=40\n",
    "def func(x):\n",
    "    print(f'x is {x}')\n",
    "    x='NEW VALUE'\n",
    "    print(f'we just change the global x to {x}')\n",
    "    return x\n",
    "    "
   ]
  },
  {
   "cell_type": "code",
   "execution_count": 38,
   "id": "fc6af450",
   "metadata": {},
   "outputs": [
    {
     "name": "stdout",
     "output_type": "stream",
     "text": [
      "40\n"
     ]
    }
   ],
   "source": [
    "print(x)"
   ]
  },
  {
   "cell_type": "code",
   "execution_count": 39,
   "id": "33c8a20d",
   "metadata": {},
   "outputs": [
    {
     "name": "stdout",
     "output_type": "stream",
     "text": [
      "x is 40\n",
      "we just change the global x to NEW VALUE\n"
     ]
    }
   ],
   "source": [
    "x=func(x)"
   ]
  },
  {
   "cell_type": "code",
   "execution_count": 35,
   "id": "09a8db31",
   "metadata": {},
   "outputs": [
    {
     "name": "stdout",
     "output_type": "stream",
     "text": [
      "Help on built-in function len in module builtins:\n",
      "\n",
      "len(obj, /)\n",
      "    Return the number of items in a container.\n",
      "\n"
     ]
    }
   ],
   "source": [
    "help(len) #higher global scope"
   ]
  },
  {
   "cell_type": "code",
   "execution_count": null,
   "id": "e7e6f39f",
   "metadata": {},
   "outputs": [],
   "source": []
  },
  {
   "cell_type": "code",
   "execution_count": null,
   "id": "0a104e6e",
   "metadata": {},
   "outputs": [],
   "source": []
  }
 ],
 "metadata": {
  "kernelspec": {
   "display_name": "Python 3 (ipykernel)",
   "language": "python",
   "name": "python3"
  },
  "language_info": {
   "codemirror_mode": {
    "name": "ipython",
    "version": 3
   },
   "file_extension": ".py",
   "mimetype": "text/x-python",
   "name": "python",
   "nbconvert_exporter": "python",
   "pygments_lexer": "ipython3",
   "version": "3.10.9"
  }
 },
 "nbformat": 4,
 "nbformat_minor": 5
}
