{
 "cells": [
  {
   "cell_type": "code",
   "execution_count": 1,
   "id": "71e561a8",
   "metadata": {},
   "outputs": [],
   "source": [
    "name= \"Anthony\""
   ]
  },
  {
   "cell_type": "code",
   "execution_count": 2,
   "id": "4606ed97",
   "metadata": {},
   "outputs": [
    {
     "data": {
      "text/plain": [
       "'Anthony'"
      ]
     },
     "execution_count": 2,
     "metadata": {},
     "output_type": "execute_result"
    }
   ],
   "source": [
    "name"
   ]
  },
  {
   "cell_type": "code",
   "execution_count": 3,
   "id": "c21a9e9f",
   "metadata": {},
   "outputs": [
    {
     "data": {
      "text/plain": [
       "str"
      ]
     },
     "execution_count": 3,
     "metadata": {},
     "output_type": "execute_result"
    }
   ],
   "source": [
    "type(name)"
   ]
  },
  {
   "cell_type": "code",
   "execution_count": 5,
   "id": "2a4e588f",
   "metadata": {},
   "outputs": [],
   "source": [
    "last_letters =name[1:]"
   ]
  },
  {
   "cell_type": "code",
   "execution_count": 6,
   "id": "cef0939a",
   "metadata": {},
   "outputs": [
    {
     "data": {
      "text/plain": [
       "'nthony'"
      ]
     },
     "execution_count": 6,
     "metadata": {},
     "output_type": "execute_result"
    }
   ],
   "source": [
    "last_letters"
   ]
  },
  {
   "cell_type": "code",
   "execution_count": 9,
   "id": "382b5fe4",
   "metadata": {},
   "outputs": [
    {
     "data": {
      "text/plain": [
       "'Pnthony'"
      ]
     },
     "execution_count": 9,
     "metadata": {},
     "output_type": "execute_result"
    }
   ],
   "source": [
    "'P'+ last_letters"
   ]
  },
  {
   "cell_type": "code",
   "execution_count": 10,
   "id": "39e06f2b",
   "metadata": {},
   "outputs": [],
   "source": [
    "x=\"Hello World\""
   ]
  },
  {
   "cell_type": "code",
   "execution_count": 11,
   "id": "fe3f9e1d",
   "metadata": {},
   "outputs": [
    {
     "data": {
      "text/plain": [
       "'Hello World'"
      ]
     },
     "execution_count": 11,
     "metadata": {},
     "output_type": "execute_result"
    }
   ],
   "source": [
    "x"
   ]
  },
  {
   "cell_type": "code",
   "execution_count": 35,
   "id": "8f22bc59",
   "metadata": {},
   "outputs": [
    {
     "data": {
      "text/plain": [
       "'Hello WorldIts a beautiful outsideIts a beautiful outside Its a beautiful outside  Its a beautiful outside  Its a beautiful outsideits beautiful outsideits beautiful outsideits beautiful outsideits beautiful outsideits beautiful outside'"
      ]
     },
     "execution_count": 35,
     "metadata": {},
     "output_type": "execute_result"
    }
   ],
   "source": [
    "x=x + \"its beautiful outside\"\n",
    "x"
   ]
  },
  {
   "cell_type": "code",
   "execution_count": 34,
   "id": "bdb1aebf",
   "metadata": {},
   "outputs": [],
   "source": [
    "a='40'+'50'"
   ]
  },
  {
   "cell_type": "code",
   "execution_count": 30,
   "id": "210c226c",
   "metadata": {},
   "outputs": [
    {
     "data": {
      "text/plain": [
       "str"
      ]
     },
     "execution_count": 30,
     "metadata": {},
     "output_type": "execute_result"
    }
   ],
   "source": [
    "type(a)"
   ]
  },
  {
   "cell_type": "code",
   "execution_count": 36,
   "id": "8ef61112",
   "metadata": {},
   "outputs": [],
   "source": [
    "letter='z'"
   ]
  },
  {
   "cell_type": "code",
   "execution_count": 37,
   "id": "1c168670",
   "metadata": {},
   "outputs": [
    {
     "data": {
      "text/plain": [
       "'z'"
      ]
     },
     "execution_count": 37,
     "metadata": {},
     "output_type": "execute_result"
    }
   ],
   "source": [
    "letter"
   ]
  },
  {
   "cell_type": "code",
   "execution_count": 41,
   "id": "a97bfa6b",
   "metadata": {},
   "outputs": [],
   "source": [
    "x='Hello World'"
   ]
  },
  {
   "cell_type": "markdown",
   "id": "6ed8536d",
   "metadata": {},
   "source": [
    "build in methods"
   ]
  },
  {
   "cell_type": "code",
   "execution_count": 43,
   "id": "ae305006",
   "metadata": {},
   "outputs": [
    {
     "data": {
      "text/plain": [
       "'HELLO WORLD'"
      ]
     },
     "execution_count": 43,
     "metadata": {},
     "output_type": "execute_result"
    }
   ],
   "source": [
    "x.upper()"
   ]
  },
  {
   "cell_type": "code",
   "execution_count": 44,
   "id": "4c7d3c82",
   "metadata": {},
   "outputs": [
    {
     "data": {
      "text/plain": [
       "'hello world'"
      ]
     },
     "execution_count": 44,
     "metadata": {},
     "output_type": "execute_result"
    }
   ],
   "source": [
    "x.lower()"
   ]
  },
  {
   "cell_type": "code",
   "execution_count": 45,
   "id": "48cfb222",
   "metadata": {},
   "outputs": [
    {
     "data": {
      "text/plain": [
       "['Hello', 'World']"
      ]
     },
     "execution_count": 45,
     "metadata": {},
     "output_type": "execute_result"
    }
   ],
   "source": [
    "x.split()"
   ]
  },
  {
   "cell_type": "code",
   "execution_count": 55,
   "id": "0f4437d0",
   "metadata": {},
   "outputs": [
    {
     "data": {
      "text/plain": [
       "['Hell', ' W', 'rld']"
      ]
     },
     "execution_count": 55,
     "metadata": {},
     "output_type": "execute_result"
    }
   ],
   "source": [
    "x.split('o')"
   ]
  },
  {
   "cell_type": "code",
   "execution_count": 59,
   "id": "eee4a544",
   "metadata": {},
   "outputs": [
    {
     "name": "stdout",
     "output_type": "stream",
     "text": [
      "Hello my name is Lalita\n"
     ]
    }
   ],
   "source": [
    "my_name= \"Lalita\"\n",
    "print('Hello my name is '+my_name)"
   ]
  },
  {
   "cell_type": "code",
   "execution_count": 1,
   "id": "49eb3306",
   "metadata": {},
   "outputs": [
    {
     "data": {
      "text/plain": [
       "'\\n HEY THIS IS A MULTILINE COMMENT\\n IAM A MULTILINE\\n'"
      ]
     },
     "execution_count": 1,
     "metadata": {},
     "output_type": "execute_result"
    }
   ],
   "source": [
    "'''\n",
    " HEY THIS IS A MULTILINE COMMENT\n",
    " IAM A MULTILINE\n",
    "'''"
   ]
  },
  {
   "cell_type": "code",
   "execution_count": 60,
   "id": "7da604ed",
   "metadata": {},
   "outputs": [],
   "source": [
    "#.format method"
   ]
  },
  {
   "cell_type": "code",
   "execution_count": 61,
   "id": "7c89f402",
   "metadata": {},
   "outputs": [],
   "source": [
    "#'string here{}.format(something1,something2,something3)"
   ]
  },
  {
   "cell_type": "code",
   "execution_count": 63,
   "id": "2109731a",
   "metadata": {},
   "outputs": [
    {
     "name": "stdout",
     "output_type": "stream",
     "text": [
      "I am a student of Medhavi Skills University\n"
     ]
    }
   ],
   "source": [
    "print('I am a student of {}'.format('Medhavi Skills University'))"
   ]
  },
  {
   "cell_type": "code",
   "execution_count": 68,
   "id": "bce9958e",
   "metadata": {},
   "outputs": [
    {
     "name": "stdout",
     "output_type": "stream",
     "text": [
      "The quick brown fox\n"
     ]
    }
   ],
   "source": [
    "print('The {q} {b} {f}'.format(b='brown',f='fox',q='quick'))"
   ]
  },
  {
   "cell_type": "code",
   "execution_count": 2,
   "id": "6797e59b",
   "metadata": {},
   "outputs": [],
   "source": [
    "#float formatting {value:width,precision f}"
   ]
  },
  {
   "cell_type": "code",
   "execution_count": 7,
   "id": "9ee329a4",
   "metadata": {},
   "outputs": [],
   "source": [
    "result= 100/77"
   ]
  },
  {
   "cell_type": "code",
   "execution_count": 8,
   "id": "a7c0f780",
   "metadata": {},
   "outputs": [
    {
     "data": {
      "text/plain": [
       "1.2987012987012987"
      ]
     },
     "execution_count": 8,
     "metadata": {},
     "output_type": "execute_result"
    }
   ],
   "source": [
    "result"
   ]
  },
  {
   "cell_type": "code",
   "execution_count": 17,
   "id": "fac11edd",
   "metadata": {},
   "outputs": [
    {
     "name": "stdout",
     "output_type": "stream",
     "text": [
      "the result is 1.29870\n"
     ]
    }
   ],
   "source": [
    "print('the result is {r:1.5f}'.format(r=result))"
   ]
  },
  {
   "cell_type": "code",
   "execution_count": 18,
   "id": "a1007947",
   "metadata": {},
   "outputs": [
    {
     "name": "stdout",
     "output_type": "stream",
     "text": [
      "the result is 64935.065\n"
     ]
    }
   ],
   "source": [
    "a=1000\n",
    "b=5000\n",
    "c= 77\n",
    "res= (a*b)/c\n",
    "print('the result is {r:1.3f}'.format(r=res))"
   ]
  },
  {
   "cell_type": "code",
   "execution_count": 19,
   "id": "0bd5ca62",
   "metadata": {},
   "outputs": [],
   "source": [
    "#formatting string literals"
   ]
  },
  {
   "cell_type": "code",
   "execution_count": 59,
   "id": "eea10894",
   "metadata": {},
   "outputs": [],
   "source": [
    "name =\"Anthony\""
   ]
  },
  {
   "cell_type": "code",
   "execution_count": 60,
   "id": "58bd9636",
   "metadata": {},
   "outputs": [
    {
     "name": "stdout",
     "output_type": "stream",
     "text": [
      "My name is Anthony\n"
     ]
    }
   ],
   "source": [
    "print(f'My name is {name}')"
   ]
  },
  {
   "cell_type": "code",
   "execution_count": 55,
   "id": "1229ee23",
   "metadata": {},
   "outputs": [],
   "source": [
    "word=\"python\""
   ]
  },
  {
   "cell_type": "code",
   "execution_count": 23,
   "id": "5e2e90e2",
   "metadata": {},
   "outputs": [
    {
     "data": {
      "text/plain": [
       "'python'"
      ]
     },
     "execution_count": 23,
     "metadata": {},
     "output_type": "execute_result"
    }
   ],
   "source": [
    "word"
   ]
  },
  {
   "cell_type": "code",
   "execution_count": 24,
   "id": "94f66bf4",
   "metadata": {},
   "outputs": [],
   "source": [
    "last_letters=word[1:]"
   ]
  },
  {
   "cell_type": "code",
   "execution_count": 25,
   "id": "ade6e998",
   "metadata": {},
   "outputs": [
    {
     "data": {
      "text/plain": [
       "'ython'"
      ]
     },
     "execution_count": 25,
     "metadata": {},
     "output_type": "execute_result"
    }
   ],
   "source": [
    "last_letters"
   ]
  },
  {
   "cell_type": "code",
   "execution_count": 26,
   "id": "1575f53f",
   "metadata": {},
   "outputs": [
    {
     "data": {
      "text/plain": [
       "'cython'"
      ]
     },
     "execution_count": 26,
     "metadata": {},
     "output_type": "execute_result"
    }
   ],
   "source": [
    "\"c\"+last_letters"
   ]
  },
  {
   "cell_type": "code",
   "execution_count": 31,
   "id": "16075ab9",
   "metadata": {},
   "outputs": [],
   "source": [
    "s1=\"hello\"\n",
    "s2= \"iam a\"\n",
    "s3= \"python programmer\""
   ]
  },
  {
   "cell_type": "code",
   "execution_count": 30,
   "id": "4106dd28",
   "metadata": {},
   "outputs": [
    {
     "data": {
      "text/plain": [
       "'helloiam apython programmer'"
      ]
     },
     "execution_count": 30,
     "metadata": {},
     "output_type": "execute_result"
    }
   ],
   "source": [
    "s1+s2+s3"
   ]
  },
  {
   "cell_type": "code",
   "execution_count": 34,
   "id": "f3a91e9c",
   "metadata": {},
   "outputs": [
    {
     "data": {
      "text/plain": [
       "'THE QUICK BROWN FOX'"
      ]
     },
     "execution_count": 34,
     "metadata": {},
     "output_type": "execute_result"
    }
   ],
   "source": [
    "x=\"the quick brown fox\"\n",
    "x.upper()"
   ]
  },
  {
   "cell_type": "code",
   "execution_count": 42,
   "id": "72b8cbb9",
   "metadata": {},
   "outputs": [],
   "source": [
    "name=\"John\"\n"
   ]
  },
  {
   "cell_type": "code",
   "execution_count": 43,
   "id": "daf7444f",
   "metadata": {},
   "outputs": [
    {
     "name": "stdout",
     "output_type": "stream",
     "text": [
      "my name is John\n"
     ]
    }
   ],
   "source": [
    "print(f'my name is {name}')\n"
   ]
  },
  {
   "cell_type": "code",
   "execution_count": 40,
   "id": "6fff0b23",
   "metadata": {},
   "outputs": [
    {
     "data": {
      "text/plain": [
       "'programming'"
      ]
     },
     "execution_count": 40,
     "metadata": {},
     "output_type": "execute_result"
    }
   ],
   "source": [
    "word=\"i love programming in python\"\n",
    "word[7:18]"
   ]
  },
  {
   "cell_type": "code",
   "execution_count": 49,
   "id": "4dc55b3f",
   "metadata": {},
   "outputs": [],
   "source": [
    "pie=22/7"
   ]
  },
  {
   "cell_type": "code",
   "execution_count": 50,
   "id": "4048a517",
   "metadata": {},
   "outputs": [
    {
     "data": {
      "text/plain": [
       "3.142857142857143"
      ]
     },
     "execution_count": 50,
     "metadata": {},
     "output_type": "execute_result"
    }
   ],
   "source": [
    "p"
   ]
  },
  {
   "cell_type": "code",
   "execution_count": 53,
   "id": "c5158df4",
   "metadata": {},
   "outputs": [
    {
     "name": "stdout",
     "output_type": "stream",
     "text": [
      "the result is 3.143)\n"
     ]
    }
   ],
   "source": [
    "print('the result is {p:1.4})'.format(p=pie))"
   ]
  },
  {
   "cell_type": "code",
   "execution_count": null,
   "id": "0b1a9463",
   "metadata": {},
   "outputs": [],
   "source": []
  }
 ],
 "metadata": {
  "kernelspec": {
   "display_name": "Python 3 (ipykernel)",
   "language": "python",
   "name": "python3"
  },
  "language_info": {
   "codemirror_mode": {
    "name": "ipython",
    "version": 3
   },
   "file_extension": ".py",
   "mimetype": "text/x-python",
   "name": "python",
   "nbconvert_exporter": "python",
   "pygments_lexer": "ipython3",
   "version": "3.10.9"
  }
 },
 "nbformat": 4,
 "nbformat_minor": 5
}
