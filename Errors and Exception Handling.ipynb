{
 "cells": [
  {
   "cell_type": "code",
   "execution_count": 1,
   "id": "e2d53b75",
   "metadata": {},
   "outputs": [],
   "source": [
    "def add(n1,n2):\n",
    "    print(n1+n2)"
   ]
  },
  {
   "cell_type": "code",
   "execution_count": 2,
   "id": "f3ab291b",
   "metadata": {},
   "outputs": [
    {
     "name": "stdout",
     "output_type": "stream",
     "text": [
      "20\n"
     ]
    }
   ],
   "source": [
    "add(10,10)"
   ]
  },
  {
   "cell_type": "code",
   "execution_count": 9,
   "id": "8e1c61e1",
   "metadata": {},
   "outputs": [],
   "source": [
    "def adding(number1,number2):\n",
    "    try:\n",
    "        number1 = 10\n",
    "        number2= input('Please provide an integer ')\n",
    "    except:\n",
    "        print('please enter both integers')\n",
    "    finally:\n",
    "        print('Adding numbers')\n"
   ]
  },
  {
   "cell_type": "code",
   "execution_count": 10,
   "id": "b57152d9",
   "metadata": {},
   "outputs": [
    {
     "name": "stdout",
     "output_type": "stream",
     "text": [
      "Please provide an integer 10\n",
      "Adding numbers\n"
     ]
    }
   ],
   "source": [
    "adding('number1','number2')"
   ]
  },
  {
   "cell_type": "code",
   "execution_count": 5,
   "id": "bf56e923",
   "metadata": {},
   "outputs": [
    {
     "name": "stdout",
     "output_type": "stream",
     "text": [
      "Try is getting executed as there is no error\n",
      "Add went well\n",
      "20\n"
     ]
    }
   ],
   "source": [
    "try:\n",
    " #want to attempt this code\n",
    " #WE may have an error\n",
    "    result = 10+10\n",
    "    print('Try is getting executed as there is no error')\n",
    "except:\n",
    "    print(\"Hey looks like you aren't adding correctly\")\n",
    "else:\n",
    "    print('Add went well')\n",
    "    print(result)\n"
   ]
  },
  {
   "cell_type": "code",
   "execution_count": 6,
   "id": "6d6beb05",
   "metadata": {},
   "outputs": [
    {
     "name": "stdout",
     "output_type": "stream",
     "text": [
      "ran textfile\n",
      "Hey you have an OSError\n",
      "I always run\n"
     ]
    }
   ],
   "source": [
    "try:\n",
    "    f = open('testfile.txt','r')\n",
    "    print('ran textfile')\n",
    "    f.write('Write a new text file')\n",
    "except TypeError:\n",
    "    print('There was a type error')\n",
    "except OSError:\n",
    "    print('Hey you have an OSError')\n",
    "except:\n",
    "    print('Other errors')\n",
    "finally:\n",
    "    print('I always run')"
   ]
  },
  {
   "cell_type": "code",
   "execution_count": 7,
   "id": "391651a5",
   "metadata": {},
   "outputs": [],
   "source": [
    "def ask_for_int():\n",
    "    try:\n",
    "        result = int(input('Please provide a number '))\n",
    "    except:\n",
    "        print('Whoops! that is not a number')\n",
    "    finally:\n",
    "        print('I always run')"
   ]
  },
  {
   "cell_type": "code",
   "execution_count": 8,
   "id": "eddbc87c",
   "metadata": {},
   "outputs": [
    {
     "name": "stdout",
     "output_type": "stream",
     "text": [
      "Please provide a number 3\n",
      "I always run\n"
     ]
    }
   ],
   "source": [
    "ask_for_int()"
   ]
  },
  {
   "cell_type": "code",
   "execution_count": 9,
   "id": "bf38ed68",
   "metadata": {},
   "outputs": [],
   "source": [
    "def ask_for_int():\n",
    "    while True:\n",
    "        try:\n",
    "            result = int(input('Please provide a number'))\n",
    "        except:\n",
    "            print('Whoops! that is not a number')\n",
    "            continue\n",
    "        else:\n",
    "            print('Yes thank You')\n",
    "            break\n",
    "        finally:\n",
    "            print('End of try except finally')\n",
    "            print('I always run at the end')"
   ]
  },
  {
   "cell_type": "code",
   "execution_count": 11,
   "id": "1270a2f8",
   "metadata": {},
   "outputs": [
    {
     "name": "stdout",
     "output_type": "stream",
     "text": [
      "Please provide a number5\n",
      "Yes thank You\n",
      "End of try except finally\n",
      "I always run at the end\n"
     ]
    }
   ],
   "source": [
    "ask_for_int()"
   ]
  },
  {
   "cell_type": "code",
   "execution_count": null,
   "id": "4e048aa0",
   "metadata": {},
   "outputs": [],
   "source": []
  }
 ],
 "metadata": {
  "kernelspec": {
   "display_name": "Python 3 (ipykernel)",
   "language": "python",
   "name": "python3"
  },
  "language_info": {
   "codemirror_mode": {
    "name": "ipython",
    "version": 3
   },
   "file_extension": ".py",
   "mimetype": "text/x-python",
   "name": "python",
   "nbconvert_exporter": "python",
   "pygments_lexer": "ipython3",
   "version": "3.10.9"
  }
 },
 "nbformat": 4,
 "nbformat_minor": 5
}
