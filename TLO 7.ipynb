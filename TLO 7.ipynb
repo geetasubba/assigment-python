{
 "cells": [
  {
   "cell_type": "markdown",
   "id": "ec818877",
   "metadata": {},
   "source": [
    "TLO6: Create and use functions with arguments in Python (CLO2)\n"
   ]
  },
  {
   "cell_type": "markdown",
   "id": "3ef48fc1",
   "metadata": {},
   "source": [
    "TLO7: Apply list comprehensions, logic, and tuple unpacking in Python (CLO2)"
   ]
  },
  {
   "cell_type": "markdown",
   "id": "d138cac4",
   "metadata": {},
   "source": [
    "Exercise 1: Create a function to find the square of a number\n",
    "Define a function named square_number that accepts a single argument called num.\n",
    "Inside the function, calculate the square of the given number by multiplying num by itself.\n",
    "Return the calculated square.\n",
    "Call the function with a number and print the result.\n"
   ]
  },
  {
   "cell_type": "code",
   "execution_count": 1,
   "id": "2c9b88d2",
   "metadata": {},
   "outputs": [
    {
     "name": "stdout",
     "output_type": "stream",
     "text": [
      "The square of 5 is 25.\n"
     ]
    }
   ],
   "source": [
    "def square_number(num):\n",
    "    squared = num * num\n",
    "    return squared\n",
    "number = 5\n",
    "result = square_number(number)\n",
    "print(f\"The square of {number} is {result}.\")\n"
   ]
  },
  {
   "cell_type": "markdown",
   "id": "fc106632",
   "metadata": {},
   "source": [
    "Exercise 2: Create a function to check if a string is a palindrome\n",
    "1 Define a function named is_palindrome that accepts a single argument called word.\n",
    "2 Inside the function, convert the word to lowercase using the lower() method.\n",
    "3 Check if the word is equal to its reverse. You can reverse the word using slicing with word[::-1].\n",
    "4 Return True if the word is a palindrome, and False otherwise.\n",
    "5 Call the function with a word and print the result.\n"
   ]
  },
  {
   "cell_type": "code",
   "execution_count": 2,
   "id": "c031fb81",
   "metadata": {},
   "outputs": [
    {
     "name": "stdout",
     "output_type": "stream",
     "text": [
      "Is 'Racecar' a palindrome? True\n"
     ]
    }
   ],
   "source": [
    "def is_palindrome(word):\n",
    "    word = word.lower()\n",
    "    return word == word[::-1]\n",
    "test_word = \"Racecar\"\n",
    "result = is_palindrome(test_word)\n",
    "print(f\"Is '{test_word}' a palindrome? {result}\")\n"
   ]
  },
  {
   "cell_type": "markdown",
   "id": "be2929b3",
   "metadata": {},
   "source": [
    "Exercise 3: Create a function to find the factorial of a number\n",
    "Define a function named factorial that accepts a single argument called num.\n",
    "If the given number is 0 or 1, return 1.\n",
    "Otherwise, use a loop (or recursion) to calculate the factorial of the given number.\n",
    "Return the calculated factorial.\n",
    "Call the function with a number and print the result.\n"
   ]
  },
  {
   "cell_type": "code",
   "execution_count": 3,
   "id": "8bab1223",
   "metadata": {},
   "outputs": [
    {
     "name": "stdout",
     "output_type": "stream",
     "text": [
      "The factorial of 5 is 120.\n"
     ]
    }
   ],
   "source": [
    "def factorial(num):\n",
    "    if num == 0 or num == 1:\n",
    "        return 1\n",
    "    else:\n",
    "        result = 1\n",
    "        for i in range(1, num + 1):\n",
    "            result *= i\n",
    "        return result\n",
    "number = 5\n",
    "result = factorial(number)\n",
    "print(f\"The factorial of {number} is {result}.\")\n"
   ]
  },
  {
   "cell_type": "markdown",
   "id": "ad945d8e",
   "metadata": {},
   "source": [
    "Exercise 4: Create a function to check if a number is odd\n",
    "Define a function named odd_check that accepts a single argument called num.\n",
    "Inside the function, check if the given number is odd by using the modulus operator (%) with 2. If the remainder is 1, the number is odd.\n",
    "Return a boolean value, True if the number is odd and False otherwise.\n",
    "Call the function with a number and print the result.\n"
   ]
  },
  {
   "cell_type": "code",
   "execution_count": 5,
   "id": "398664df",
   "metadata": {},
   "outputs": [
    {
     "name": "stdout",
     "output_type": "stream",
     "text": [
      "Is 5 odd? True\n"
     ]
    }
   ],
   "source": [
    "def odd_check(num):\n",
    "    return num % 2 == 1\n",
    "number = 5\n",
    "result = odd_check(number)\n",
    "print(f\"Is {number} odd? {result}\")\n"
   ]
  },
  {
   "cell_type": "markdown",
   "id": "5d6bad18",
   "metadata": {},
   "source": [
    "Exercise 5: Create a function to return odd numbers from a given list\n"
   ]
  },
  {
   "cell_type": "code",
   "execution_count": 7,
   "id": "1f261f81",
   "metadata": {},
   "outputs": [
    {
     "name": "stdout",
     "output_type": "stream",
     "text": [
      "Odd numbers in the list: [1, 3, 5, 7, 9]\n"
     ]
    }
   ],
   "source": [
    "def odd_numbers_list(num_list):\n",
    "    odd_numbers = []\n",
    "    for number in num_list:\n",
    "        if number % 2 == 1:\n",
    "            odd_numbers.append(number)\n",
    "    return odd_numbers\n",
    "numbers = [1, 2, 3, 4, 5, 6, 7, 8, 9]\n",
    "result = odd_numbers_list(numbers)\n",
    "print(f\"Odd numbers in the list: {result}\")\n"
   ]
  },
  {
   "cell_type": "markdown",
   "id": "2be99c91",
   "metadata": {},
   "source": [
    "Exercise 6: Create a function to find the employee of the month based on the number of hours worked\n",
    "Define a function named employee_of_month that accepts a single argument called work_hours.\n",
    "Initialize a variable current_max to 0 and a variable employee_of_month as an empty string.\n",
    "Use a for loop to iterate through the tuples in work_hours.\n",
    "Inside the loop, use tuple unpacking to get the employee's name and hours worked.\n"
   ]
  },
  {
   "cell_type": "code",
   "execution_count": 9,
   "id": "53df624b",
   "metadata": {},
   "outputs": [
    {
     "name": "stdout",
     "output_type": "stream",
     "text": [
      "Employee of the month is Sammy with 600 hours worked.\n"
     ]
    }
   ],
   "source": [
    "def employee_of_month(work_hours):\n",
    "    current_max = 0\n",
    "    employee_of_month = ''\n",
    "    for employee, hours in work_hours:\n",
    "        if hours > current_max:\n",
    "            current_max = hours\n",
    "            employee_of_month = employee\n",
    "    return (employee_of_month, current_max)\n",
    "work_hours_data = [('Abby', 100), ('Mark', 200), ('Sammy', 600)]\n",
    "result = employee_of_month(work_hours_data)\n",
    "print(f\"Employee of the month is {result[0]} with {result[1]} hours worked.\")\n"
   ]
  },
  {
   "cell_type": "markdown",
   "id": "b3b39565",
   "metadata": {},
   "source": [
    "Exercise 7: Create a list of squared numbers using list comprehension\n",
    "Define a function named squared_numbers that accepts a single argument called num_range.\n",
    "Use list comprehension to create a list squared_list containing the square of each number in num_range.\n",
    "Return the list squared_list.\n"
   ]
  },
  {
   "cell_type": "code",
   "execution_count": 10,
   "id": "3b2ca0e4",
   "metadata": {},
   "outputs": [
    {
     "name": "stdout",
     "output_type": "stream",
     "text": [
      "[0, 1, 4, 9, 16, 25, 36, 49, 64, 81, 100]\n"
     ]
    }
   ],
   "source": [
    "def squared_numbers(num_range):\n",
    "    squared_list = [num**2 for num in num_range]\n",
    "    return squared_list\n",
    "result = squared_numbers(range(0, 11))\n",
    "print(result)\n"
   ]
  },
  {
   "cell_type": "code",
   "execution_count": null,
   "id": "c6133277",
   "metadata": {},
   "outputs": [],
   "source": []
  }
 ],
 "metadata": {
  "kernelspec": {
   "display_name": "Python 3 (ipykernel)",
   "language": "python",
   "name": "python3"
  },
  "language_info": {
   "codemirror_mode": {
    "name": "ipython",
    "version": 3
   },
   "file_extension": ".py",
   "mimetype": "text/x-python",
   "name": "python",
   "nbconvert_exporter": "python",
   "pygments_lexer": "ipython3",
   "version": "3.10.9"
  }
 },
 "nbformat": 4,
 "nbformat_minor": 5
}
