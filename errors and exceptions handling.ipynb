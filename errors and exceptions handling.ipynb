{
 "cells": [
  {
   "cell_type": "code",
   "execution_count": 1,
   "id": "7290d903",
   "metadata": {},
   "outputs": [],
   "source": [
    "def add(n1,n2):\n",
    "    print(n1+n2)"
   ]
  },
  {
   "cell_type": "code",
   "execution_count": 2,
   "id": "a416b88d",
   "metadata": {},
   "outputs": [
    {
     "name": "stdout",
     "output_type": "stream",
     "text": [
      "30\n"
     ]
    }
   ],
   "source": [
    "add(10,20)"
   ]
  },
  {
   "cell_type": "code",
   "execution_count": 8,
   "id": "0103bc15",
   "metadata": {},
   "outputs": [],
   "source": [
    "def adding(number1,number2):\n",
    "    try:\n",
    "        number1 =10\n",
    "        number2= input('Please provide an integer')\n",
    "    except:\n",
    "        print('Please enter both  integers')\n",
    "    finally:\n",
    "        print('Adding numbers')"
   ]
  },
  {
   "cell_type": "code",
   "execution_count": 9,
   "id": "8bdc4d44",
   "metadata": {},
   "outputs": [
    {
     "ename": "NameError",
     "evalue": "name 'number1' is not defined",
     "output_type": "error",
     "traceback": [
      "\u001b[1;31m---------------------------------------------------------------------------\u001b[0m",
      "\u001b[1;31mNameError\u001b[0m                                 Traceback (most recent call last)",
      "Cell \u001b[1;32mIn[9], line 1\u001b[0m\n\u001b[1;32m----> 1\u001b[0m adding(\u001b[43mnumber1\u001b[49m,number2)\n",
      "\u001b[1;31mNameError\u001b[0m: name 'number1' is not defined"
     ]
    }
   ],
   "source": [
    "adding(number1,number2)"
   ]
  },
  {
   "cell_type": "code",
   "execution_count": 13,
   "id": "df4375c4",
   "metadata": {},
   "outputs": [
    {
     "name": "stdout",
     "output_type": "stream",
     "text": [
      "Try is getting executed as there is no error\n",
      "Add went well\n",
      "20\n"
     ]
    }
   ],
   "source": [
    "try:\n",
    "    #want to attempt this code\n",
    "    #we may have an error \n",
    "    result = 10 +10\n",
    "    print('Try is getting executed as there is no error')\n",
    "except:\n",
    "    print(\"Hey looks like you arent adding correctly\")\n",
    "else:\n",
    "    print ('Add went well')\n",
    "    print (result)"
   ]
  },
  {
   "cell_type": "code",
   "execution_count": 14,
   "id": "94c2fb72",
   "metadata": {},
   "outputs": [
    {
     "name": "stdout",
     "output_type": "stream",
     "text": [
      "Hey you have an OSError\n",
      "I always run\n"
     ]
    }
   ],
   "source": [
    "try:\n",
    "    f = open ('testfile.txt','r')\n",
    "    print('ran textfile')\n",
    "    f.write ('Write  a new  text file')\n",
    "except TypeError :\n",
    "     print('There was a type error')\n",
    "except OSError :\n",
    "    print('Hey you have an OSError')\n",
    "except:\n",
    "    print('Other errors')\n",
    "finally:\n",
    "     print('I always run')"
   ]
  },
  {
   "cell_type": "code",
   "execution_count": 1,
   "id": "e709d03c",
   "metadata": {},
   "outputs": [],
   "source": [
    "def ask_for_int():\n",
    "    try:\n",
    "        result = int(input('Please provide a number'))\n",
    "    except:\n",
    "        print('Whoops! that is not a number')\n",
    "    finally: \n",
    "        print('I always run')"
   ]
  },
  {
   "cell_type": "code",
   "execution_count": 11,
   "id": "af011b1f",
   "metadata": {},
   "outputs": [
    {
     "ename": "NameError",
     "evalue": "name 'ask_for_int' is not defined",
     "output_type": "error",
     "traceback": [
      "\u001b[1;31m---------------------------------------------------------------------------\u001b[0m",
      "\u001b[1;31mNameError\u001b[0m                                 Traceback (most recent call last)",
      "Cell \u001b[1;32mIn[11], line 1\u001b[0m\n\u001b[1;32m----> 1\u001b[0m \u001b[43mask_for_int\u001b[49m()\n",
      "\u001b[1;31mNameError\u001b[0m: name 'ask_for_int' is not defined"
     ]
    }
   ],
   "source": [
    "  "
   ]
  },
  {
   "cell_type": "code",
   "execution_count": null,
   "id": "8c858f79",
   "metadata": {},
   "outputs": [],
   "source": []
  },
  {
   "cell_type": "code",
   "execution_count": null,
   "id": "4d20e814",
   "metadata": {},
   "outputs": [],
   "source": []
  }
 ],
 "metadata": {
  "kernelspec": {
   "display_name": "Python 3 (ipykernel)",
   "language": "python",
   "name": "python3"
  },
  "language_info": {
   "codemirror_mode": {
    "name": "ipython",
    "version": 3
   },
   "file_extension": ".py",
   "mimetype": "text/x-python",
   "name": "python",
   "nbconvert_exporter": "python",
   "pygments_lexer": "ipython3",
   "version": "3.10.9"
  }
 },
 "nbformat": 4,
 "nbformat_minor": 5
}
