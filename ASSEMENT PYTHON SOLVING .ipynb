{
 "cells": [
  {
   "cell_type": "markdown",
   "id": "5e91f4b3",
   "metadata": {},
   "source": [
    " Python Program to convert decimal to binary, octal and hexadecimal.\n",
    "Python Program to multiply and add two Matrices."
   ]
  },
  {
   "cell_type": "code",
   "execution_count": 1,
   "id": "afa59f74",
   "metadata": {},
   "outputs": [
    {
     "name": "stdout",
     "output_type": "stream",
     "text": [
      "The decimal  value of 300 is:\n",
      "0b100101100 in binary,\n",
      "0o454 in octal,\n",
      "0x12c in hexadecimal.\n"
     ]
    }
   ],
   "source": [
    "dec= 300\n",
    "print(\"The decimal  value of\", dec,\"is:\")\n",
    "print(bin(dec),\"in binary,\")\n",
    "print(oct(dec),\"in octal,\")\n",
    "print(hex(dec),\"in hexadecimal.\")"
   ]
  },
  {
   "cell_type": "markdown",
   "id": "3304967a",
   "metadata": {},
   "source": [
    " Python Program to multiply and add two Matrices."
   ]
  },
  {
   "cell_type": "code",
   "execution_count": 2,
   "id": "7f0112a8",
   "metadata": {},
   "outputs": [
    {
     "name": "stdout",
     "output_type": "stream",
     "text": [
      "The addition of two matrices: \n",
      "[7, 11, 5]\n",
      "[10, 12, 9]\n",
      "[11, 13, 18]\n",
      "\n",
      "The multiplication of two matrices: \n",
      "[44, 57, 47]\n",
      "[74, 97, 73]\n",
      "[119, 157, 112]\n"
     ]
    }
   ],
   "source": [
    " X =[[2,3,4],\n",
    "    [4,5,6],\n",
    "    [7,8,9]]\n",
    "\n",
    "Y = [[5,8,1],\n",
    "    [6,7,3],\n",
    "    [4,5,9]]\n",
    "\n",
    "result_add = [[0,0,0],\n",
    "         [0,0,0],\n",
    "         [0,0,0]]\n",
    "\n",
    "result_mul = [[0,0,0],\n",
    "         [0,0,0],\n",
    "         [0,0,0]]\n",
    "\n",
    "# Adding matrices\n",
    "for i in range(len(X)):\n",
    "    for j in range(len(X[0])):\n",
    "        result_add[i][j] = X[i][j] + Y[i][j]\n",
    "\n",
    "# Multiplying matrices\n",
    "for i in range(len(X)):\n",
    "    for j in range(len(Y[0])):\n",
    "        for k in range(len(Y)):\n",
    "            result_mul[i][j] += X[i][k] * Y[k][j]\n",
    "\n",
    "print(\"The addition of two matrices: \")\n",
    "for r in result_add:\n",
    "    print(r)\n",
    "\n",
    "print(\"\\nThe multiplication of two matrices: \")\n",
    "for r in result_mul:\n",
    "    print(r)\n"
   ]
  },
  {
   "cell_type": "markdown",
   "id": "dd6054d2",
   "metadata": {},
   "source": [
    "2. Python Program to Sort Words in Alphabetic Order."
   ]
  },
  {
   "cell_type": "code",
   "execution_count": 3,
   "id": "699b9066",
   "metadata": {},
   "outputs": [
    {
     "name": "stdout",
     "output_type": "stream",
     "text": [
      "Enter the stringmy name is geeta hangma subba\n",
      "The sorted words are:\n",
      "geeta\n",
      "hangma\n",
      "is\n",
      "my\n",
      "name\n",
      "subba\n"
     ]
    }
   ],
   "source": [
    "my_str = ( str(input(\"Enter the string\")))\n",
    "words = [word.lower() for word in my_str.split()]\n",
    "words.sort()\n",
    "print(\"The sorted words are:\")\n",
    "for word in words:\n",
    "    print(word)\n",
    "\n"
   ]
  },
  {
   "cell_type": "markdown",
   "id": "18f90829",
   "metadata": {},
   "source": [
    "Python Program to implement at least five geometric Figures using turtle.\n"
   ]
  },
  {
   "cell_type": "code",
   "execution_count": 4,
   "id": "09a52f7f",
   "metadata": {},
   "outputs": [],
   "source": [
    "import turtle\n",
    "t = turtle.Turtle()\n",
    "\n",
    "#SQUARE\n",
    "side = 100\n",
    "for i in range(4):\n",
    "    t.forward(side)\n",
    "    t.left(90)\n",
    "\n",
    "#RECTANGLE\n",
    "side_a = 100\n",
    "side_b = 120\n",
    "t.forward(side_a)\n",
    "t.left(90)\n",
    "t.forward(side_b)\n",
    "t.left(90)\n",
    "t.forward(side_a)\n",
    "t.left(90)\n",
    "t.forward(side_b)\n",
    "t.left(90)\n",
    "\n",
    "#CIRCLE\n",
    "radius = 100\n",
    "t.circle(radius)\n",
    "\n",
    "#HEXAGON\n",
    "for i in range(6):\n",
    "    t.forward(side)\n",
    "    t.left(300)"
   ]
  },
  {
   "cell_type": "markdown",
   "id": "1412e658",
   "metadata": {},
   "source": [
    ". Python Program to check whether a string is palindrome or not."
   ]
  },
  {
   "cell_type": "code",
   "execution_count": 2,
   "id": "01fae2ee",
   "metadata": {},
   "outputs": [
    {
     "name": "stdout",
     "output_type": "stream",
     "text": [
      "enter the stringanna\n",
      "The string is a palindrome.\n"
     ]
    }
   ],
   "source": [
    "my_str =(str(input(\"enter the string\")))\n",
    "\n",
    "# make it suitable for caseless comparison\n",
    "my_str = my_str.casefold()\n",
    "\n",
    "# reverse the string\n",
    "rev_str = reversed(my_str)\n",
    "\n",
    "# check if the string is equal to its reverse\n",
    "if list(my_str) == list(rev_str):\n",
    "    print(\"The string is a palindrome.\")\n",
    "else:\n",
    "    print(\"The string is not a palindrome.\")"
   ]
  },
  {
   "cell_type": "markdown",
   "id": "b0624979",
   "metadata": {},
   "source": [
    "Python Program to create Pyramid Pattern."
   ]
  },
  {
   "cell_type": "code",
   "execution_count": 1,
   "id": "1d4b2177",
   "metadata": {},
   "outputs": [
    {
     "name": "stdout",
     "output_type": "stream",
     "text": [
      "Enter number of rows: 5\n",
      "        * \n",
      "      * * * \n",
      "    * * * * * \n",
      "  * * * * * * * \n",
      "* * * * * * * * * \n"
     ]
    }
   ],
   "source": [
    "rows = int(input(\"Enter number of rows: \"))\n",
    "\n",
    "k = 0\n",
    "\n",
    "for i in range(1, rows+1):\n",
    "    for space in range(1, (rows-i)+1):\n",
    "        print(end=\"  \")\n",
    "   \n",
    "    while k!=(2*i-1):\n",
    "        print(\"* \", end=\"\")\n",
    "        k += 1\n",
    "   \n",
    "    k = 0\n",
    "    print()"
   ]
  },
  {
   "cell_type": "markdown",
   "id": "fbdd26b8",
   "metadata": {},
   "source": [
    "4. Python Program to get file creation and modification Date."
   ]
  },
  {
   "cell_type": "code",
   "execution_count": null,
   "id": "8972d811",
   "metadata": {},
   "outputs": [],
   "source": []
  },
  {
   "cell_type": "markdown",
   "id": "f3bdcdaf",
   "metadata": {},
   "source": [
    "Python Program to convert lists to dictionary.\n"
   ]
  },
  {
   "cell_type": "code",
   "execution_count": 1,
   "id": "96e863a2",
   "metadata": {},
   "outputs": [
    {
     "name": "stdout",
     "output_type": "stream",
     "text": [
      "{'a': 1, 'b': 2, 'c': 3}\n"
     ]
    }
   ],
   "source": [
    "keys = ['a', 'b', 'c']\n",
    "values = [1, 2, 3]\n",
    "\n",
    "my_dict = {k: v for k, v in zip(keys, values)}\n",
    "print(my_dict)  "
   ]
  },
  {
   "cell_type": "markdown",
   "id": "ef8daf3c",
   "metadata": {},
   "source": [
    ". Python Program to create a Lap Timer."
   ]
  },
  {
   "cell_type": "code",
   "execution_count": null,
   "id": "b452f17b",
   "metadata": {},
   "outputs": [],
   "source": []
  },
  {
   "cell_type": "markdown",
   "id": "bd98097c",
   "metadata": {},
   "source": [
    "Python Program to create unique values from dictionary values"
   ]
  },
  {
   "cell_type": "code",
   "execution_count": 3,
   "id": "9745ae2a",
   "metadata": {},
   "outputs": [
    {
     "name": "stdout",
     "output_type": "stream",
     "text": [
      "{1, 2, 3}\n"
     ]
    }
   ],
   "source": [
    "my_dic= {'a':1,'b':2,'c':1,'d':2,'e':3}\n",
    "unique_values= set(my_dic.values())\n",
    "print(unique_values)"
   ]
  },
  {
   "cell_type": "code",
   "execution_count": null,
   "id": "9dfce9b8",
   "metadata": {},
   "outputs": [],
   "source": []
  }
 ],
 "metadata": {
  "kernelspec": {
   "display_name": "Python 3 (ipykernel)",
   "language": "python",
   "name": "python3"
  },
  "language_info": {
   "codemirror_mode": {
    "name": "ipython",
    "version": 3
   },
   "file_extension": ".py",
   "mimetype": "text/x-python",
   "name": "python",
   "nbconvert_exporter": "python",
   "pygments_lexer": "ipython3",
   "version": "3.10.9"
  }
 },
 "nbformat": 4,
 "nbformat_minor": 5
}
