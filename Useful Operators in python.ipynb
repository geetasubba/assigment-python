{
 "cells": [
  {
   "cell_type": "code",
   "execution_count": 1,
   "id": "4808ab00",
   "metadata": {},
   "outputs": [],
   "source": [
    "#Range"
   ]
  },
  {
   "cell_type": "code",
   "execution_count": 2,
   "id": "229f8bae",
   "metadata": {},
   "outputs": [],
   "source": [
    "mylist=[1,2,3,4,5,6,7,8,9,10]"
   ]
  },
  {
   "cell_type": "code",
   "execution_count": 3,
   "id": "4f6cea90",
   "metadata": {},
   "outputs": [
    {
     "name": "stdout",
     "output_type": "stream",
     "text": [
      "0\n",
      "1\n",
      "2\n",
      "3\n",
      "4\n",
      "5\n",
      "6\n",
      "7\n",
      "8\n",
      "9\n"
     ]
    }
   ],
   "source": [
    "for num in range(0,10):\n",
    "    print(num)"
   ]
  },
  {
   "cell_type": "code",
   "execution_count": 4,
   "id": "5dbc2d56",
   "metadata": {},
   "outputs": [
    {
     "data": {
      "text/plain": [
       "[0, 1, 2, 3, 4, 5, 6, 7, 8, 9]"
      ]
     },
     "execution_count": 4,
     "metadata": {},
     "output_type": "execute_result"
    }
   ],
   "source": [
    "list(range(0,10))"
   ]
  },
  {
   "cell_type": "code",
   "execution_count": 5,
   "id": "09268a8d",
   "metadata": {},
   "outputs": [
    {
     "name": "stdout",
     "output_type": "stream",
     "text": [
      "0\n",
      "1\n",
      "2\n",
      "3\n",
      "4\n",
      "5\n",
      "6\n",
      "7\n",
      "8\n",
      "9\n"
     ]
    }
   ],
   "source": [
    "for num in range(10):\n",
    "    print(num)"
   ]
  },
  {
   "cell_type": "code",
   "execution_count": 6,
   "id": "d2e471f9",
   "metadata": {},
   "outputs": [
    {
     "name": "stdout",
     "output_type": "stream",
     "text": [
      "3\n",
      "4\n",
      "5\n",
      "6\n",
      "7\n",
      "8\n",
      "9\n"
     ]
    }
   ],
   "source": [
    "for num in range(3,10):\n",
    "    print(num)"
   ]
  },
  {
   "cell_type": "code",
   "execution_count": 7,
   "id": "de041275",
   "metadata": {},
   "outputs": [],
   "source": [
    "#enumerate"
   ]
  },
  {
   "cell_type": "code",
   "execution_count": 12,
   "id": "1cf4794b",
   "metadata": {},
   "outputs": [
    {
     "name": "stdout",
     "output_type": "stream",
     "text": [
      "At index 0 the letter is a\n",
      "At index 1 the letter is b\n",
      "At index 2 the letter is c\n",
      "At index 3 the letter is d\n",
      "At index 4 the letter is e\n"
     ]
    }
   ],
   "source": [
    "index_count=0\n",
    "for letter in 'abcde':\n",
    "    print('At index {} the letter is {}'.format(index_count,letter))\n",
    "    index_count  +=1"
   ]
  },
  {
   "cell_type": "code",
   "execution_count": 13,
   "id": "30419f4e",
   "metadata": {},
   "outputs": [
    {
     "name": "stdout",
     "output_type": "stream",
     "text": [
      "0\n",
      "a\n",
      "\n",
      "\n",
      "1\n",
      "b\n",
      "\n",
      "\n",
      "2\n",
      "c\n",
      "\n",
      "\n",
      "3\n",
      "d\n",
      "\n",
      "\n",
      "4\n",
      "e\n",
      "\n",
      "\n"
     ]
    }
   ],
   "source": [
    "word='abcde'\n",
    "for index,letter in enumerate(word):\n",
    "    print(index)\n",
    "    print(letter)\n",
    "    print('\\n')"
   ]
  },
  {
   "cell_type": "code",
   "execution_count": 17,
   "id": "4de448cd",
   "metadata": {},
   "outputs": [],
   "source": [
    "#zip function"
   ]
  },
  {
   "cell_type": "code",
   "execution_count": 19,
   "id": "c162a4fa",
   "metadata": {},
   "outputs": [
    {
     "name": "stdout",
     "output_type": "stream",
     "text": [
      "('a', 1)\n",
      "('b', 2)\n",
      "('c', 3)\n"
     ]
    }
   ],
   "source": [
    "mylist1= ['a','b','c']\n",
    "mylist2=[1,2,3]\n",
    "for item in zip(mylist1,mylist2):\n",
    "    print(item)"
   ]
  },
  {
   "cell_type": "code",
   "execution_count": 24,
   "id": "d31eafd4",
   "metadata": {},
   "outputs": [
    {
     "data": {
      "text/plain": [
       "[('a', 1), ('b', 2), ('c', 3)]"
      ]
     },
     "execution_count": 24,
     "metadata": {},
     "output_type": "execute_result"
    }
   ],
   "source": [
    "mylist1= ['a','b','c']\n",
    "mylist2=[1,2,3,4,5]\n",
    "list (zip (mylist1,mylist2))\n",
    "\n"
   ]
  },
  {
   "cell_type": "code",
   "execution_count": 59,
   "id": "651b6f78",
   "metadata": {},
   "outputs": [
    {
     "name": "stdout",
     "output_type": "stream",
     "text": [
      "a\n",
      "1\n",
      "11\n",
      "b\n",
      "2\n",
      "22\n",
      "c\n",
      "3\n",
      "33\n"
     ]
    }
   ],
   "source": [
    "mylist1= ['a','b','c']\n",
    "mylist2=[1,2,3,4,5]\n",
    "mylist3=[11,22,33]\n",
    "for l1,l2,l3 in zip(mylist1,mylist2,mylist3):\n",
    "    print(l1)\n",
    "    print(l2)\n",
    "    print(l3)"
   ]
  },
  {
   "cell_type": "code",
   "execution_count": 26,
   "id": "933975a1",
   "metadata": {},
   "outputs": [],
   "source": [
    "#in keyboard"
   ]
  },
  {
   "cell_type": "code",
   "execution_count": 27,
   "id": "69c5007d",
   "metadata": {},
   "outputs": [
    {
     "data": {
      "text/plain": [
       "False"
      ]
     },
     "execution_count": 27,
     "metadata": {},
     "output_type": "execute_result"
    }
   ],
   "source": [
    "'x'in [1,2,3]"
   ]
  },
  {
   "cell_type": "code",
   "execution_count": 28,
   "id": "1153d659",
   "metadata": {},
   "outputs": [
    {
     "data": {
      "text/plain": [
       "True"
      ]
     },
     "execution_count": 28,
     "metadata": {},
     "output_type": "execute_result"
    }
   ],
   "source": [
    "'x' in ['x','y','z']"
   ]
  },
  {
   "cell_type": "code",
   "execution_count": 29,
   "id": "2bc24ce2",
   "metadata": {},
   "outputs": [
    {
     "data": {
      "text/plain": [
       "True"
      ]
     },
     "execution_count": 29,
     "metadata": {},
     "output_type": "execute_result"
    }
   ],
   "source": [
    "'a'in 'wonderla'"
   ]
  },
  {
   "cell_type": "code",
   "execution_count": 30,
   "id": "88cd5040",
   "metadata": {},
   "outputs": [
    {
     "data": {
      "text/plain": [
       "True"
      ]
     },
     "execution_count": 30,
     "metadata": {},
     "output_type": "execute_result"
    }
   ],
   "source": [
    "'mykey' in {'mykey':1}"
   ]
  },
  {
   "cell_type": "code",
   "execution_count": 31,
   "id": "e217b2a6",
   "metadata": {},
   "outputs": [],
   "source": [
    "d={'mykey':345}"
   ]
  },
  {
   "cell_type": "code",
   "execution_count": 32,
   "id": "4adcc5d3",
   "metadata": {},
   "outputs": [
    {
     "data": {
      "text/plain": [
       "True"
      ]
     },
     "execution_count": 32,
     "metadata": {},
     "output_type": "execute_result"
    }
   ],
   "source": [
    "345 in d.values()"
   ]
  },
  {
   "cell_type": "code",
   "execution_count": 33,
   "id": "f300514f",
   "metadata": {},
   "outputs": [
    {
     "data": {
      "text/plain": [
       "False"
      ]
     },
     "execution_count": 33,
     "metadata": {},
     "output_type": "execute_result"
    }
   ],
   "source": [
    "345 in d.keys()"
   ]
  },
  {
   "cell_type": "code",
   "execution_count": 34,
   "id": "232a0b15",
   "metadata": {},
   "outputs": [
    {
     "data": {
      "text/plain": [
       "False"
      ]
     },
     "execution_count": 34,
     "metadata": {},
     "output_type": "execute_result"
    }
   ],
   "source": [
    "345 in d.items()"
   ]
  },
  {
   "cell_type": "code",
   "execution_count": 35,
   "id": "9e4048a0",
   "metadata": {},
   "outputs": [],
   "source": [
    "#min ,max"
   ]
  },
  {
   "cell_type": "code",
   "execution_count": 36,
   "id": "b249d1f2",
   "metadata": {},
   "outputs": [
    {
     "data": {
      "text/plain": [
       "10"
      ]
     },
     "execution_count": 36,
     "metadata": {},
     "output_type": "execute_result"
    }
   ],
   "source": [
    "mylist =[10,20,30,40,50,60]\n",
    "min(mylist)"
   ]
  },
  {
   "cell_type": "code",
   "execution_count": 37,
   "id": "7d36f878",
   "metadata": {},
   "outputs": [
    {
     "data": {
      "text/plain": [
       "60"
      ]
     },
     "execution_count": 37,
     "metadata": {},
     "output_type": "execute_result"
    }
   ],
   "source": [
    "max (mylist)"
   ]
  },
  {
   "cell_type": "code",
   "execution_count": 41,
   "id": "4915be24",
   "metadata": {},
   "outputs": [],
   "source": [
    "#random library"
   ]
  },
  {
   "cell_type": "code",
   "execution_count": 45,
   "id": "262efa4c",
   "metadata": {},
   "outputs": [],
   "source": [
    "from random import shuffle\n",
    "mylist=[1,2,3,4,5,6,7,8]\n",
    "shuffle(mylist)\n",
    "rd1=mylist"
   ]
  },
  {
   "cell_type": "code",
   "execution_count": 46,
   "id": "1bced488",
   "metadata": {},
   "outputs": [
    {
     "data": {
      "text/plain": [
       "[3, 6, 5, 2, 4, 7, 1, 8]"
      ]
     },
     "execution_count": 46,
     "metadata": {},
     "output_type": "execute_result"
    }
   ],
   "source": [
    "rd1"
   ]
  },
  {
   "cell_type": "code",
   "execution_count": 67,
   "id": "4f08ff4e",
   "metadata": {},
   "outputs": [
    {
     "data": {
      "text/plain": [
       "9"
      ]
     },
     "execution_count": 67,
     "metadata": {},
     "output_type": "execute_result"
    }
   ],
   "source": [
    "from random import randint\n",
    "randint(0,10)"
   ]
  },
  {
   "cell_type": "code",
   "execution_count": 73,
   "id": "2f834a0c",
   "metadata": {},
   "outputs": [
    {
     "data": {
      "text/plain": [
       "94"
      ]
     },
     "execution_count": 73,
     "metadata": {},
     "output_type": "execute_result"
    }
   ],
   "source": [
    "randint(0,100)"
   ]
  },
  {
   "cell_type": "code",
   "execution_count": 49,
   "id": "b5221789",
   "metadata": {},
   "outputs": [],
   "source": [
    "my_num = randint(0,50)\n"
   ]
  },
  {
   "cell_type": "code",
   "execution_count": 50,
   "id": "b27a6e5c",
   "metadata": {},
   "outputs": [
    {
     "data": {
      "text/plain": [
       "37"
      ]
     },
     "execution_count": 50,
     "metadata": {},
     "output_type": "execute_result"
    }
   ],
   "source": [
    "my_num"
   ]
  },
  {
   "cell_type": "code",
   "execution_count": 51,
   "id": "e3a96f71",
   "metadata": {},
   "outputs": [],
   "source": [
    "#Input"
   ]
  },
  {
   "cell_type": "code",
   "execution_count": 52,
   "id": "878a7a57",
   "metadata": {},
   "outputs": [
    {
     "name": "stdout",
     "output_type": "stream",
     "text": [
      "Enter a number here22\n"
     ]
    },
    {
     "data": {
      "text/plain": [
       "'22'"
      ]
     },
     "execution_count": 52,
     "metadata": {},
     "output_type": "execute_result"
    }
   ],
   "source": [
    "input('Enter a number here')"
   ]
  },
  {
   "cell_type": "code",
   "execution_count": 53,
   "id": "751b2c26",
   "metadata": {},
   "outputs": [
    {
     "name": "stdout",
     "output_type": "stream",
     "text": [
      "Enter your favourite no25\n"
     ]
    },
    {
     "data": {
      "text/plain": [
       "25"
      ]
     },
     "execution_count": 53,
     "metadata": {},
     "output_type": "execute_result"
    }
   ],
   "source": [
    "int(input('Enter your favourite no'))"
   ]
  },
  {
   "cell_type": "code",
   "execution_count": 75,
   "id": "bbc268b0",
   "metadata": {},
   "outputs": [
    {
     "name": "stdout",
     "output_type": "stream",
     "text": [
      "Enter your favourite no26\n"
     ]
    }
   ],
   "source": [
    "result=int(input('Enter your favourite no'))"
   ]
  },
  {
   "cell_type": "code",
   "execution_count": 57,
   "id": "b38c9e91",
   "metadata": {},
   "outputs": [
    {
     "data": {
      "text/plain": [
       "10"
      ]
     },
     "execution_count": 57,
     "metadata": {},
     "output_type": "execute_result"
    }
   ],
   "source": [
    "result"
   ]
  },
  {
   "cell_type": "code",
   "execution_count": 58,
   "id": "bf0f1442",
   "metadata": {},
   "outputs": [
    {
     "data": {
      "text/plain": [
       "int"
      ]
     },
     "execution_count": 58,
     "metadata": {},
     "output_type": "execute_result"
    }
   ],
   "source": [
    "type(result)"
   ]
  },
  {
   "cell_type": "code",
   "execution_count": 60,
   "id": "c7b08164",
   "metadata": {},
   "outputs": [
    {
     "name": "stdout",
     "output_type": "stream",
     "text": [
      "Enter 1st number2\n",
      "Enter 2nd number3\n",
      "5.0\n"
     ]
    }
   ],
   "source": [
    "number=float(input('Enter 1st number'))\n",
    "number_two= float(input('Enter 2nd number'))\n",
    "result= number+number_two\n",
    "print(result)"
   ]
  },
  {
   "cell_type": "code",
   "execution_count": 74,
   "id": "12ea5ec5",
   "metadata": {},
   "outputs": [
    {
     "data": {
      "text/plain": [
       "float"
      ]
     },
     "execution_count": 74,
     "metadata": {},
     "output_type": "execute_result"
    }
   ],
   "source": [
    "type(result)"
   ]
  },
  {
   "cell_type": "code",
   "execution_count": 78,
   "id": "cd08bb07",
   "metadata": {},
   "outputs": [
    {
     "name": "stdout",
     "output_type": "stream",
     "text": [
      "Enter the length35\n",
      "Enter the width23\n",
      "Area of rectangle = 805.0\n"
     ]
    }
   ],
   "source": [
    "length=float(input('Enter the length'))\n",
    "width=float(input('Enter the width'))\n",
    "area=length*width\n",
    "print('Area of rectangle =',area)"
   ]
  },
  {
   "cell_type": "code",
   "execution_count": 79,
   "id": "225d7bc0",
   "metadata": {},
   "outputs": [
    {
     "data": {
      "text/plain": [
       "float"
      ]
     },
     "execution_count": 79,
     "metadata": {},
     "output_type": "execute_result"
    }
   ],
   "source": [
    "type(area)"
   ]
  },
  {
   "cell_type": "code",
   "execution_count": 81,
   "id": "b7a81fc5",
   "metadata": {},
   "outputs": [],
   "source": [
    "#list comphrehension in python "
   ]
  },
  {
   "cell_type": "code",
   "execution_count": 103,
   "id": "060296b3",
   "metadata": {},
   "outputs": [],
   "source": [
    "mystring='hello'\n",
    "mylist=[]\n",
    "for letter in mystring:\n",
    "    mylist.append(letter)"
   ]
  },
  {
   "cell_type": "code",
   "execution_count": 83,
   "id": "2665c501",
   "metadata": {},
   "outputs": [
    {
     "data": {
      "text/plain": [
       "['h', 'e', 'l', 'l', 'o']"
      ]
     },
     "execution_count": 83,
     "metadata": {},
     "output_type": "execute_result"
    }
   ],
   "source": [
    "mylist"
   ]
  },
  {
   "cell_type": "code",
   "execution_count": 84,
   "id": "c1a5062e",
   "metadata": {},
   "outputs": [],
   "source": [
    "mystring='hello'\n",
    "mylist=[ letter for letter in mystring]\n"
   ]
  },
  {
   "cell_type": "code",
   "execution_count": 85,
   "id": "f660a3c2",
   "metadata": {},
   "outputs": [
    {
     "data": {
      "text/plain": [
       "['h', 'e', 'l', 'l', 'o']"
      ]
     },
     "execution_count": 85,
     "metadata": {},
     "output_type": "execute_result"
    }
   ],
   "source": [
    "mylist"
   ]
  },
  {
   "cell_type": "code",
   "execution_count": 86,
   "id": "80d6d7d7",
   "metadata": {},
   "outputs": [],
   "source": [
    "word='hello'\n",
    "mylist=[x for x in word]"
   ]
  },
  {
   "cell_type": "code",
   "execution_count": 87,
   "id": "45da1b73",
   "metadata": {},
   "outputs": [
    {
     "data": {
      "text/plain": [
       "['h', 'e', 'l', 'l', 'o']"
      ]
     },
     "execution_count": 87,
     "metadata": {},
     "output_type": "execute_result"
    }
   ],
   "source": [
    "mylist"
   ]
  },
  {
   "cell_type": "code",
   "execution_count": 88,
   "id": "92d08e55",
   "metadata": {},
   "outputs": [],
   "source": [
    "mylists=[x for x in 'april and may']"
   ]
  },
  {
   "cell_type": "code",
   "execution_count": 89,
   "id": "577e3677",
   "metadata": {},
   "outputs": [
    {
     "data": {
      "text/plain": [
       "['a', 'p', 'r', 'i', 'l', ' ', 'a', 'n', 'd', ' ', 'm', 'a', 'y']"
      ]
     },
     "execution_count": 89,
     "metadata": {},
     "output_type": "execute_result"
    }
   ],
   "source": [
    "mylists"
   ]
  },
  {
   "cell_type": "code",
   "execution_count": 96,
   "id": "f8647b03",
   "metadata": {},
   "outputs": [],
   "source": [
    "mynum=[num **2 for num in range(0,10)]"
   ]
  },
  {
   "cell_type": "code",
   "execution_count": 97,
   "id": "14df905d",
   "metadata": {},
   "outputs": [
    {
     "data": {
      "text/plain": [
       "[0, 1, 4, 9, 16, 25, 36, 49, 64, 81]"
      ]
     },
     "execution_count": 97,
     "metadata": {},
     "output_type": "execute_result"
    }
   ],
   "source": [
    "mynum"
   ]
  },
  {
   "cell_type": "code",
   "execution_count": 104,
   "id": "465a6b62",
   "metadata": {},
   "outputs": [],
   "source": [
    "myeven=[x**2 for x in range(0,11) if x%2==0]"
   ]
  },
  {
   "cell_type": "code",
   "execution_count": 105,
   "id": "a78c04bd",
   "metadata": {},
   "outputs": [
    {
     "data": {
      "text/plain": [
       "[0, 4, 16, 36, 64, 100]"
      ]
     },
     "execution_count": 105,
     "metadata": {},
     "output_type": "execute_result"
    }
   ],
   "source": [
    "myeven"
   ]
  },
  {
   "cell_type": "code",
   "execution_count": 110,
   "id": "081d22a8",
   "metadata": {},
   "outputs": [],
   "source": [
    "celcius= [0,10,20,30,50,34.5]\n",
    "fahrenheit= [((9/5)*temp+32) for temp in celcius]"
   ]
  },
  {
   "cell_type": "code",
   "execution_count": 111,
   "id": "3f4121eb",
   "metadata": {},
   "outputs": [
    {
     "data": {
      "text/plain": [
       "[32.0, 50.0, 68.0, 86.0, 122.0, 94.1]"
      ]
     },
     "execution_count": 111,
     "metadata": {},
     "output_type": "execute_result"
    }
   ],
   "source": [
    "fahrenheit"
   ]
  },
  {
   "cell_type": "code",
   "execution_count": 116,
   "id": "158146fb",
   "metadata": {},
   "outputs": [],
   "source": [
    " results= [x if x%2 ==0 else 'OOD' for x in range(0,10)]"
   ]
  },
  {
   "cell_type": "code",
   "execution_count": 117,
   "id": "3522bcd6",
   "metadata": {},
   "outputs": [
    {
     "data": {
      "text/plain": [
       "[0, 'OOD', 2, 'OOD', 4, 'OOD', 6, 'OOD', 8, 'OOD']"
      ]
     },
     "execution_count": 117,
     "metadata": {},
     "output_type": "execute_result"
    }
   ],
   "source": [
    "results"
   ]
  },
  {
   "cell_type": "code",
   "execution_count": 118,
   "id": "1fae5f68",
   "metadata": {},
   "outputs": [],
   "source": [
    "#NESTED LOOP"
   ]
  },
  {
   "cell_type": "code",
   "execution_count": 123,
   "id": "5a6624a3",
   "metadata": {},
   "outputs": [],
   "source": [
    "mylist=[]\n",
    "for x in [1,4,6]:\n",
    "    for y in [1,10,100]:\n",
    "        mylist.append(x*y)\n",
    "    \n"
   ]
  },
  {
   "cell_type": "code",
   "execution_count": 124,
   "id": "6574943b",
   "metadata": {},
   "outputs": [
    {
     "data": {
      "text/plain": [
       "[1, 10, 100, 4, 40, 400, 6, 60, 600]"
      ]
     },
     "execution_count": 124,
     "metadata": {},
     "output_type": "execute_result"
    }
   ],
   "source": [
    "mylist"
   ]
  },
  {
   "cell_type": "code",
   "execution_count": 127,
   "id": "04baba51",
   "metadata": {},
   "outputs": [],
   "source": [
    "mynest = [x*y for x in [2,4,6] for y in [1,10,1000]]\n"
   ]
  },
  {
   "cell_type": "code",
   "execution_count": 128,
   "id": "92a50bb0",
   "metadata": {},
   "outputs": [
    {
     "data": {
      "text/plain": [
       "[2, 20, 2000, 4, 40, 4000, 6, 60, 6000]"
      ]
     },
     "execution_count": 128,
     "metadata": {},
     "output_type": "execute_result"
    }
   ],
   "source": [
    "mynest"
   ]
  },
  {
   "cell_type": "code",
   "execution_count": null,
   "id": "46901d94",
   "metadata": {},
   "outputs": [],
   "source": []
  }
 ],
 "metadata": {
  "kernelspec": {
   "display_name": "Python 3 (ipykernel)",
   "language": "python",
   "name": "python3"
  },
  "language_info": {
   "codemirror_mode": {
    "name": "ipython",
    "version": 3
   },
   "file_extension": ".py",
   "mimetype": "text/x-python",
   "name": "python",
   "nbconvert_exporter": "python",
   "pygments_lexer": "ipython3",
   "version": "3.10.9"
  }
 },
 "nbformat": 4,
 "nbformat_minor": 5
}
