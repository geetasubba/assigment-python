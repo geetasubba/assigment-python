{
 "cells": [
  {
   "cell_type": "markdown",
   "id": "14dbd64b",
   "metadata": {},
   "source": [
    "TLO2: Understand and apply Python data types and operators to solve programming problems (CLO2)\n"
   ]
  },
  {
   "cell_type": "markdown",
   "id": "8a3e8e0c",
   "metadata": {},
   "source": [
    "Create variables of different data types (integer, float, string, and boolean) and perform various arithmetic operations on them.\n"
   ]
  },
  {
   "cell_type": "code",
   "execution_count": 2,
   "id": "65a7569f",
   "metadata": {},
   "outputs": [
    {
     "name": "stdout",
     "output_type": "stream",
     "text": [
      "30 35.0 2.857142857142857\n"
     ]
    }
   ],
   "source": [
    "a = 10\n",
    "b = 3.5\n",
    "c = \"20\"\n",
    "result1 = a + int(c)\n",
    "result2 = a * b\n",
    "result3 = a / b\n",
    "print(result1, result2, result3)\n"
   ]
  },
  {
   "cell_type": "markdown",
   "id": "47113472",
   "metadata": {},
   "source": [
    "2.Given a string s = \"Programming is fun!\", extract the word \"is\" using slicing.\n"
   ]
  },
  {
   "cell_type": "code",
   "execution_count": 3,
   "id": "6efd7f50",
   "metadata": {},
   "outputs": [
    {
     "name": "stdout",
     "output_type": "stream",
     "text": [
      "is\n"
     ]
    }
   ],
   "source": [
    "s = \"Programming is fun!\"\n",
    "extracted_word = s[12:14]\n",
    "print(extracted_word)\n"
   ]
  },
  {
   "cell_type": "markdown",
   "id": "1cfe8209",
   "metadata": {},
   "source": [
    "3.Calculate the area of a rectangle with length l and width w using the multiplication operator."
   ]
  },
  {
   "cell_type": "code",
   "execution_count": 6,
   "id": "287a8b70",
   "metadata": {},
   "outputs": [
    {
     "name": "stdout",
     "output_type": "stream",
     "text": [
      "The area of the rectangle is: 50\n"
     ]
    }
   ],
   "source": [
    "l = 10\n",
    "w = 5\n",
    "area = l * w\n",
    "print(\"The area of the rectangle is:\", area)\n",
    "\n"
   ]
  },
  {
   "cell_type": "markdown",
   "id": "c5413563",
   "metadata": {},
   "source": [
    "4.Given two numbers x and y, calculate their sum, difference, product, and quotient using arithmetic operators.\n"
   ]
  },
  {
   "cell_type": "code",
   "execution_count": 7,
   "id": "a436f1a4",
   "metadata": {},
   "outputs": [
    {
     "name": "stdout",
     "output_type": "stream",
     "text": [
      "Sum: 15\n",
      "Difference: -5\n",
      "Product: 50\n",
      "Quotient: 0.5\n"
     ]
    }
   ],
   "source": [
    "x = 5\n",
    "y = 10\n",
    "sum_result = x + y\n",
    "diff_result = x - y\n",
    "prod_result = x * y\n",
    "quot_result = x / y\n",
    "print(\"Sum:\", sum_result)\n",
    "print(\"Difference:\", diff_result)\n",
    "print(\"Product:\", prod_result)\n",
    "print(\"Quotient:\", quot_result)\n"
   ]
  },
  {
   "cell_type": "markdown",
   "id": "f99ea805",
   "metadata": {},
   "source": [
    "6.Determine the remainder of the division of two numbers a and b using the modulo operator.\n"
   ]
  },
  {
   "cell_type": "code",
   "execution_count": 8,
   "id": "845821da",
   "metadata": {},
   "outputs": [
    {
     "name": "stdout",
     "output_type": "stream",
     "text": [
      "The remainder of the division is: 3\n"
     ]
    }
   ],
   "source": [
    "a = 15\n",
    "b = 4\n",
    "remainder = a % b\n",
    "print(\"The remainder of the division is:\", remainder)\n"
   ]
  },
  {
   "cell_type": "code",
   "execution_count": null,
   "id": "2b213953",
   "metadata": {},
   "outputs": [],
   "source": []
  }
 ],
 "metadata": {
  "kernelspec": {
   "display_name": "Python 3 (ipykernel)",
   "language": "python",
   "name": "python3"
  },
  "language_info": {
   "codemirror_mode": {
    "name": "ipython",
    "version": 3
   },
   "file_extension": ".py",
   "mimetype": "text/x-python",
   "name": "python",
   "nbconvert_exporter": "python",
   "pygments_lexer": "ipython3",
   "version": "3.10.9"
  }
 },
 "nbformat": 4,
 "nbformat_minor": 5
}
