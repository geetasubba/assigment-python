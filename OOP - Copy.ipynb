{
 "cells": [
  {
   "cell_type": "markdown",
   "id": "269369af",
   "metadata": {},
   "source": [
    "Object Oriented Programming Challenge - Solution For this challenge, create a bank account class that has two attributes:\n",
    "\n",
    "owner balance and two methods: deposit withdraw As an added requirement, withdrawals may not exceed the available balance.\n",
    "\n",
    "Instantiate your class, make several deposits and withdrawals, and test to make sure the account can't be overdrawn."
   ]
  },
  {
   "cell_type": "code",
   "execution_count": 21,
   "id": "a5e7ff56",
   "metadata": {},
   "outputs": [],
   "source": [
    "class Account:\n",
    "    def __init__(self,owner,balance=0):\n",
    "        self.owner = owner\n",
    "        self.balance = balance\n",
    "        \n",
    "    def __str__(self):\n",
    "        return f'Account owner:   {self.owner}\\nAccount balance: ${self.balance}'\n",
    "        \n",
    "    def deposit(self,dep_amt):\n",
    "        self.balance += dep_amt\n",
    "        print('Deposit Accepted!!')\n",
    "        \n",
    "    def withdraw(self,wd_amt):\n",
    "        if self.balance >= wd_amt:\n",
    "            self.balance -= wd_amt\n",
    "            print('Withdrawal Accepted!!')\n",
    "        else:\n",
    "            print('Funds Unavailable!!')"
   ]
  },
  {
   "cell_type": "code",
   "execution_count": 22,
   "id": "f518a089",
   "metadata": {},
   "outputs": [],
   "source": [
    "#1. Instantiate the class\n",
    "Act1 = Account('Anna',700)"
   ]
  },
  {
   "cell_type": "code",
   "execution_count": 23,
   "id": "19ada3e4",
   "metadata": {},
   "outputs": [
    {
     "name": "stdout",
     "output_type": "stream",
     "text": [
      "Account owner:   Anna\n",
      "Account balance: $700\n"
     ]
    }
   ],
   "source": [
    "print(Act1)"
   ]
  },
  {
   "cell_type": "code",
   "execution_count": 26,
   "id": "236c4f4b",
   "metadata": {},
   "outputs": [
    {
     "data": {
      "text/plain": [
       "'Anna'"
      ]
     },
     "execution_count": 26,
     "metadata": {},
     "output_type": "execute_result"
    }
   ],
   "source": [
    "#3.Show the account owner attribute\n",
    "Act1.owner"
   ]
  },
  {
   "cell_type": "code",
   "execution_count": 30,
   "id": "d0e4ae1d",
   "metadata": {},
   "outputs": [
    {
     "data": {
      "text/plain": [
       "700"
      ]
     },
     "execution_count": 30,
     "metadata": {},
     "output_type": "execute_result"
    }
   ],
   "source": [
    "# 4.Show the account balance attribute\n",
    "Act1.balance"
   ]
  },
  {
   "cell_type": "code",
   "execution_count": 37,
   "id": "f077b12a",
   "metadata": {},
   "outputs": [
    {
     "name": "stdout",
     "output_type": "stream",
     "text": [
      "Deposit Accepted!!\n"
     ]
    }
   ],
   "source": [
    "# 5.Make a series of deposits and withdrawals\n",
    "Act1.deposit(360)"
   ]
  },
  {
   "cell_type": "code",
   "execution_count": 38,
   "id": "10b23468",
   "metadata": {},
   "outputs": [
    {
     "name": "stdout",
     "output_type": "stream",
     "text": [
      "Withdrawal Accepted!!\n"
     ]
    }
   ],
   "source": [
    "Act1.withdraw(140)"
   ]
  },
  {
   "cell_type": "code",
   "execution_count": 41,
   "id": "211e3171",
   "metadata": {},
   "outputs": [
    {
     "name": "stdout",
     "output_type": "stream",
     "text": [
      "Funds Unavailable!!\n"
     ]
    }
   ],
   "source": [
    "# 6.Make a withdrawl that exceeds the available balance\n",
    "Act1.withdraw(900)"
   ]
  },
  {
   "cell_type": "code",
   "execution_count": null,
   "id": "8f77bbf5",
   "metadata": {},
   "outputs": [],
   "source": []
  }
 ],
 "metadata": {
  "kernelspec": {
   "display_name": "Python 3 (ipykernel)",
   "language": "python",
   "name": "python3"
  },
  "language_info": {
   "codemirror_mode": {
    "name": "ipython",
    "version": 3
   },
   "file_extension": ".py",
   "mimetype": "text/x-python",
   "name": "python",
   "nbconvert_exporter": "python",
   "pygments_lexer": "ipython3",
   "version": "3.10.9"
  }
 },
 "nbformat": 4,
 "nbformat_minor": 5
}
