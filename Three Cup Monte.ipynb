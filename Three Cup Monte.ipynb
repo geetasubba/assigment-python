{
 "cells": [
  {
   "cell_type": "code",
   "execution_count": 2,
   "id": "e919274c",
   "metadata": {},
   "outputs": [],
   "source": [
    "from random import shuffle\n",
    "mylist =[1,2,3,4,5]\n",
    "def shuffle_list(mylist):\n",
    "    shuffle(mylist)\n",
    "    return mylist\n"
   ]
  },
  {
   "cell_type": "code",
   "execution_count": 3,
   "id": "f8269359",
   "metadata": {},
   "outputs": [
    {
     "data": {
      "text/plain": [
       "[4, 1, 5, 2, 3]"
      ]
     },
     "execution_count": 3,
     "metadata": {},
     "output_type": "execute_result"
    }
   ],
   "source": [
    "shuffle_list(mylist)"
   ]
  },
  {
   "cell_type": "code",
   "execution_count": 18,
   "id": "89930c54",
   "metadata": {},
   "outputs": [],
   "source": [
    "def player_guess():\n",
    "    guess= ''\n",
    "    while guess not in ['0','1','2']:\n",
    "     guess = input ('Enter a number 0,1,or 2')\n",
    "    return int(guess)\n",
    "\n",
    "    "
   ]
  },
  {
   "cell_type": "code",
   "execution_count": 21,
   "id": "c4cc4ba5",
   "metadata": {},
   "outputs": [
    {
     "name": "stdout",
     "output_type": "stream",
     "text": [
      "Enter a number 0,1,or 22\n"
     ]
    }
   ],
   "source": [
    "myindex= player_guess()"
   ]
  },
  {
   "cell_type": "code",
   "execution_count": 22,
   "id": "f8688eb3",
   "metadata": {},
   "outputs": [
    {
     "data": {
      "text/plain": [
       "2"
      ]
     },
     "execution_count": 22,
     "metadata": {},
     "output_type": "execute_result"
    }
   ],
   "source": [
    "myindex"
   ]
  },
  {
   "cell_type": "code",
   "execution_count": 24,
   "id": "62537afe",
   "metadata": {},
   "outputs": [],
   "source": [
    "def check_guess(mylist,guess):\n",
    "    if mylist[guess] =='0':\n",
    "        print('correct')\n",
    "    else:\n",
    "            print('Wrong choice')\n",
    "            print(mylist)"
   ]
  },
  {
   "cell_type": "code",
   "execution_count": 26,
   "id": "7f44f95b",
   "metadata": {},
   "outputs": [
    {
     "name": "stdout",
     "output_type": "stream",
     "text": [
      "Enter a number 0,1,or 22\n",
      "correct\n"
     ]
    }
   ],
   "source": [
    "#Initial list\n",
    "mylist= ['','0','']\n",
    "#shuffle function\n",
    "mixedup_list= shuffle_list(mylist)\n",
    "#User guess\n",
    "guess =player_guess()\n",
    "\n",
    "\n",
    "#check user guess\n",
    "check_guess(mixedup_list,guess)"
   ]
  },
  {
   "cell_type": "code",
   "execution_count": 31,
   "id": "fd74d7e8",
   "metadata": {},
   "outputs": [
    {
     "name": "stdout",
     "output_type": "stream",
     "text": [
      "['', '', '0']\n",
      "pick a number 0,1,22\n",
      "correct\n"
     ]
    }
   ],
   "source": [
    "from random import shuffle\n",
    "def my_random_list(myfirstlist):\n",
    "    shuffle(myfirstlist)\n",
    "    return myfirstlist\n",
    "def user_guess():\n",
    "    guessed=''\n",
    "    while guessed not in ['0','1','2']:\n",
    "        guessed = input ('pick a number 0,1,2')\n",
    "        return int (guessed)\n",
    "def checking_user_guess(myfirstlist,guessed):\n",
    "    if myfirstlist[guessed] == '0':\n",
    "        print('correct')\n",
    "    else:\n",
    "            print('Wrong Choice')\n",
    "            print(myfirstlist)\n",
    "#Initial list\n",
    "myfirstlist=['0','','']\n",
    "#Shuffle list\n",
    "mixed_list= my_random_list(myfirstlist)\n",
    "print(mixed_list)\n",
    "#User guess\n",
    "guessed= user_guess()\n",
    "#check your guess\n",
    "checking_user_guess(mixed_list,guessed)\n"
   ]
  },
  {
   "cell_type": "code",
   "execution_count": null,
   "id": "7c1930a5",
   "metadata": {},
   "outputs": [],
   "source": [
    " "
   ]
  },
  {
   "cell_type": "code",
   "execution_count": null,
   "id": "8e2d66cd",
   "metadata": {},
   "outputs": [],
   "source": []
  },
  {
   "cell_type": "code",
   "execution_count": null,
   "id": "f0883f1d",
   "metadata": {},
   "outputs": [],
   "source": []
  },
  {
   "cell_type": "code",
   "execution_count": null,
   "id": "f496a955",
   "metadata": {},
   "outputs": [],
   "source": []
  },
  {
   "cell_type": "code",
   "execution_count": null,
   "id": "2c10d217",
   "metadata": {},
   "outputs": [],
   "source": []
  },
  {
   "cell_type": "code",
   "execution_count": null,
   "id": "86e54cc7",
   "metadata": {},
   "outputs": [],
   "source": []
  },
  {
   "cell_type": "code",
   "execution_count": null,
   "id": "8a359f8c",
   "metadata": {},
   "outputs": [],
   "source": []
  },
  {
   "cell_type": "code",
   "execution_count": null,
   "id": "d291d468",
   "metadata": {},
   "outputs": [],
   "source": []
  },
  {
   "cell_type": "code",
   "execution_count": null,
   "id": "63d75016",
   "metadata": {},
   "outputs": [],
   "source": []
  },
  {
   "cell_type": "code",
   "execution_count": null,
   "id": "79b8a7c6",
   "metadata": {},
   "outputs": [],
   "source": []
  },
  {
   "cell_type": "code",
   "execution_count": null,
   "id": "c2be87ae",
   "metadata": {},
   "outputs": [],
   "source": []
  }
 ],
 "metadata": {
  "kernelspec": {
   "display_name": "Python 3 (ipykernel)",
   "language": "python",
   "name": "python3"
  },
  "language_info": {
   "codemirror_mode": {
    "name": "ipython",
    "version": 3
   },
   "file_extension": ".py",
   "mimetype": "text/x-python",
   "name": "python",
   "nbconvert_exporter": "python",
   "pygments_lexer": "ipython3",
   "version": "3.10.9"
  }
 },
 "nbformat": 4,
 "nbformat_minor": 5
}
