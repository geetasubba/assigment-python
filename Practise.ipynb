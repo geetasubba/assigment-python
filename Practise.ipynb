{
 "cells": [
  {
   "cell_type": "code",
   "execution_count": 12,
   "id": "51ba4af5",
   "metadata": {},
   "outputs": [
    {
     "name": "stdout",
     "output_type": "stream",
     "text": [
      "Index search of 20: 3\n",
      "Index search of 12: 0\n"
     ]
    }
   ],
   "source": [
    "def linear_search(arr, target):\n",
    "    for i in range(len(arr)):\n",
    "        if arr[i] == target:\n",
    "            return i  # return index of target\n",
    "    return -1  # target not in list\n",
    "\n",
    "number =[12,33,15,20,23]\n",
    "target_number=20\n",
    "\n",
    "\n",
    "print(\"Index search of 20:\",linear_search(arr,20))\n",
    "print(\"Index search of 12:\",linear_search (arr, 12))\n",
    "       "
   ]
  },
  {
   "cell_type": "code",
   "execution_count": null,
   "id": "bcc0553a",
   "metadata": {},
   "outputs": [],
   "source": []
  },
  {
   "cell_type": "code",
   "execution_count": 18,
   "id": "540ec607",
   "metadata": {},
   "outputs": [],
   "source": [
    "def binary_search(arr, target):\n",
    "    low, high = 0, len(arr) - 1\n",
    "    while low <= high:\n",
    "        mid = (low + high) // 2\n",
    "        if arr[mid] == target:\n",
    "            return mid\n",
    "        elif arr[mid] < target:\n",
    "            low = mid + 1\n",
    "        else:\n",
    "            high = mid - 1\n",
    "    return -1\n"
   ]
  },
  {
   "cell_type": "code",
   "execution_count": 22,
   "id": "d162e26f",
   "metadata": {},
   "outputs": [
    {
     "name": "stdout",
     "output_type": "stream",
     "text": [
      "Index search of 45 is 3\n",
      "Index search of 33 is 2\n",
      "Index search of 10 is 0\n"
     ]
    }
   ],
   "source": [
    "number=[10,18,33,45,40]\n",
    "target1 = 45\n",
    "target2 = 33\n",
    "target3 = 10\n",
    "\n",
    "print(\"Index search of\", target1, \"is\", binary_search(number,target1))\n",
    "print(\"Index search of\", target2, \"is\", binary_search(number,target2))\n",
    "print(\"Index search of\", target3, \"is\", binary_search(number,target3))"
   ]
  },
  {
   "cell_type": "code",
   "execution_count": null,
   "id": "21cee21c",
   "metadata": {},
   "outputs": [],
   "source": []
  }
 ],
 "metadata": {
  "kernelspec": {
   "display_name": "Python 3 (ipykernel)",
   "language": "python",
   "name": "python3"
  },
  "language_info": {
   "codemirror_mode": {
    "name": "ipython",
    "version": 3
   },
   "file_extension": ".py",
   "mimetype": "text/x-python",
   "name": "python",
   "nbconvert_exporter": "python",
   "pygments_lexer": "ipython3",
   "version": "3.10.9"
  }
 },
 "nbformat": 4,
 "nbformat_minor": 5
}
