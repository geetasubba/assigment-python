{
 "cells": [
  {
   "cell_type": "markdown",
   "id": "08b79a90",
   "metadata": {},
   "source": [
    "ASSIGNMENT 4 "
   ]
  },
  {
   "cell_type": "markdown",
   "id": "113afbfe",
   "metadata": {},
   "source": [
    "TEMPERATURE CONVERTER"
   ]
  },
  {
   "cell_type": "code",
   "execution_count": 1,
   "id": "1464eea0",
   "metadata": {},
   "outputs": [],
   "source": [
    "def convert_temperature(temp, from_scale, to_scale):\n",
    "    if from_scale == to_scale:\n",
    "        return temp\n",
    "\n",
    "    if from_scale == 'Celsius':\n",
    "        if to_scale == 'Fahrenheit':\n",
    "            return (temp * 9/5) + 32\n",
    "        elif to_scale == 'Kelvin':\n",
    "            return temp + 273.15\n",
    "\n",
    "    if from_scale == 'Fahrenheit':\n",
    "        if to_scale == 'Celsius':\n",
    "            return (temp - 32) * 5/7\n",
    "        elif to_scale == 'Kelvin':\n",
    "            return (temp + 41.67) * 5/7\n",
    "\n",
    "    if from_scale == 'Kelvin':\n",
    "        if to_scale == 'Celsius':\n",
    "            return temp - 273.15\n",
    "        elif to_scale == 'Fahrenheit':\n",
    "            return (temp * 9/5) - 459.67\n",
    "    "
   ]
  },
  {
   "cell_type": "code",
   "execution_count": 2,
   "id": "e02ca190",
   "metadata": {},
   "outputs": [
    {
     "name": "stdout",
     "output_type": "stream",
     "text": [
      "32.0\n",
      "0.0\n",
      "273.15\n"
     ]
    }
   ],
   "source": [
    "print(convert_temperature(0,'Celsius', 'Fahrenheit'))\n",
    "print(convert_temperature(32,'Fahrenheit','Celsius'))\n",
    "print(convert_temperature(0,'Celsius','Kelvin'))"
   ]
  },
  {
   "cell_type": "markdown",
   "id": "32fecee7",
   "metadata": {},
   "source": [
    "Assessment 2: Create python program using modules , collections, OS, date-time, math, and random operations also note the usecase of each modules"
   ]
  },
  {
   "cell_type": "code",
   "execution_count": 11,
   "id": "42af6829",
   "metadata": {},
   "outputs": [
    {
     "name": "stdout",
     "output_type": "stream",
     "text": [
      "Counter({'POTATO': 1, 'CABBAGE': 1, 'TOMATO': 1, 'CAULIFLOWER': 1})\n",
      "C:\\Users\\Lenovo\\Desktop\\python file\n",
      "2023-07-04 14:58:58.223933\n",
      "3.1622776601683795\n",
      "7\n"
     ]
    }
   ],
   "source": [
    "import collections\n",
    "import os\n",
    "import datetime\n",
    "import math\n",
    "import random\n",
    "\n",
    "vegetables =['POTATO', 'CABBAGE', 'TOMATO', 'CAULIFLOWER',]\n",
    "vegetables_counter = collections.Counter(vegetables)\n",
    "print(vegetables_counter) \n",
    "current_dir = os.getcwd()\n",
    "print(current_dir) \n",
    "current_datetime = datetime.datetime.now()\n",
    "print(current_datetime)  \n",
    "num = 10\n",
    "square_root = math.sqrt(num)\n",
    "print(square_root)  \n",
    "\n",
    "random_number = random.randint(1, 10)\n",
    "print(random_number) "
   ]
  },
  {
   "cell_type": "markdown",
   "id": "16a5050e",
   "metadata": {},
   "source": [
    "Assessment 3: Program to perform Linear Search.\n",
    "Linear search is a simple search algorithm that checks every element in the list sequentially until it finds the target value.\n",
    "\n",
    "\n"
   ]
  },
  {
   "cell_type": "code",
   "execution_count": 1,
   "id": "4a535d7f",
   "metadata": {},
   "outputs": [],
   "source": [
    "def linear_search(arr,a,b):\n",
    "    for i in range(0,a):\n",
    "        if (arr[i]==b):\n",
    "            return i\n",
    "        return-1\n",
    "        arr=[3,7,9,8,2,4]\n",
    "        print(\"The array given is \",arr)\n",
    "        b = 9\n",
    "        print(\"Element to be found is \",b)\n",
    "        a= len(arr)\n",
    "        index= linear_search(arr,a,b)\n",
    "        if (index==-1):\n",
    "            print(\"Element is not in the list\")\n",
    "    else:\n",
    "          print(\"Index of the element is:\",index)\n",
    "       "
   ]
  },
  {
   "cell_type": "code",
   "execution_count": null,
   "id": "94dd5b3d",
   "metadata": {},
   "outputs": [],
   "source": []
  },
  {
   "cell_type": "code",
   "execution_count": null,
   "id": "245cc3db",
   "metadata": {},
   "outputs": [],
   "source": []
  },
  {
   "cell_type": "code",
   "execution_count": null,
   "id": "cae8c698",
   "metadata": {},
   "outputs": [],
   "source": []
  },
  {
   "cell_type": "code",
   "execution_count": null,
   "id": "1f2c1ac4",
   "metadata": {},
   "outputs": [],
   "source": []
  },
  {
   "cell_type": "code",
   "execution_count": null,
   "id": "c23077b0",
   "metadata": {},
   "outputs": [],
   "source": []
  }
 ],
 "metadata": {
  "kernelspec": {
   "display_name": "Python 3 (ipykernel)",
   "language": "python",
   "name": "python3"
  },
  "language_info": {
   "codemirror_mode": {
    "name": "ipython",
    "version": 3
   },
   "file_extension": ".py",
   "mimetype": "text/x-python",
   "name": "python",
   "nbconvert_exporter": "python",
   "pygments_lexer": "ipython3",
   "version": "3.10.9"
  }
 },
 "nbformat": 4,
 "nbformat_minor": 5
}
