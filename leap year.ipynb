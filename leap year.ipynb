{
 "cells": [
  {
   "cell_type": "markdown",
   "id": "c9142c5f",
   "metadata": {},
   "source": [
    "Python Program to check Leap year"
   ]
  },
  {
   "cell_type": "code",
   "execution_count": 20,
   "id": "e7fab6f5",
   "metadata": {},
   "outputs": [
    {
     "name": "stdout",
     "output_type": "stream",
     "text": [
      "Enter a year:2002\n",
      "This year is not a leap year\n"
     ]
    }
   ],
   "source": [
    "year= int(input(\"Enter a year:\"))\n",
    "if (year% 400 == 0) and (year % 100 == 0):\n",
    "    print (\"This year is a leap year\")\n",
    "else:\n",
    "    print(\"This year is not a leap year\")\n",
    "    "
   ]
  },
  {
   "cell_type": "code",
   "execution_count": 21,
   "id": "b6875d35",
   "metadata": {},
   "outputs": [],
   "source": [
    "#checking the prime "
   ]
  },
  {
   "cell_type": "code",
   "execution_count": 7,
   "id": "72823822",
   "metadata": {},
   "outputs": [
    {
     "name": "stdout",
     "output_type": "stream",
     "text": [
      "enter any number21\n",
      "21 is a prime number\n"
     ]
    }
   ],
   "source": [
    "num=int(input(\"enter any number\"))\n",
    "if n>1:\n",
    "    for i in range(2,n):\n",
    "        if (n % i)==0:\n",
    "            print(n,\"is a prime number\")\n",
    "            break\n",
    "    else:\n",
    "         print(n,\"is not a prime number\")"
   ]
  },
  {
   "cell_type": "markdown",
   "id": "2bdaf22f",
   "metadata": {},
   "source": [
    "#Pythone Program to find the factorial number\n"
   ]
  },
  {
   "cell_type": "code",
   "execution_count": 47,
   "id": "257629a5",
   "metadata": {},
   "outputs": [
    {
     "name": "stdout",
     "output_type": "stream",
     "text": [
      "enter a num:4\n",
      "The factorial of num 4 is 4\n",
      "The factorial of num 3 is 12\n",
      "The factorial of num 2 is 24\n",
      "The factorial of num 1 is 24\n"
     ]
    }
   ],
   "source": [
    "num=int(input(\"enter a num:\"))\n",
    "result=1\n",
    "for num in range (num,0,-1):\n",
    "    result= num*result\n",
    "    print('The factorial of num', num, 'is', result)"
   ]
  },
  {
   "cell_type": "code",
   "execution_count": null,
   "id": "7557106e",
   "metadata": {},
   "outputs": [],
   "source": [
    "# Python  program to print fibonacci of a number"
   ]
  },
  {
   "cell_type": "code",
   "execution_count": 56,
   "id": "9234f2db",
   "metadata": {},
   "outputs": [],
   "source": [
    "def fib(n):\n",
    "    a=0\n",
    "    b=1\n",
    "    \n",
    "    if n==1:\n",
    "        print(a)\n",
    "    else:\n",
    "        print(a)\n",
    "        print(b)\n",
    "        \n",
    "        for i in range(2,n):\n",
    "            c = a+b\n",
    "            a=b\n",
    "            b=c\n",
    "            print(c)\n",
    "                    "
   ]
  },
  {
   "cell_type": "code",
   "execution_count": 59,
   "id": "cc675aa4",
   "metadata": {},
   "outputs": [
    {
     "name": "stdout",
     "output_type": "stream",
     "text": [
      "0\n",
      "1\n",
      "1\n",
      "2\n",
      "3\n",
      "5\n"
     ]
    }
   ],
   "source": [
    "fib(6)"
   ]
  },
  {
   "cell_type": "code",
   "execution_count": null,
   "id": "32db63eb",
   "metadata": {},
   "outputs": [],
   "source": [
    "#5 Python program to find the armstrong number"
   ]
  },
  {
   "cell_type": "code",
   "execution_count": 5,
   "id": "8007006a",
   "metadata": {},
   "outputs": [
    {
     "name": "stdout",
     "output_type": "stream",
     "text": [
      "enter a number0\n",
      "0 is an armstrong number\n"
     ]
    }
   ],
   "source": [
    "num=int(input(\"enter a number\"))\n",
    "sum =0\n",
    "temp = num\n",
    "while temp>0:\n",
    "    digit=temp%10\n",
    "    sum+=digit**3\n",
    "    temp//=10\n",
    "#result\n",
    "if num == sum:\n",
    "    print(num,\"is an armstrong number\")\n",
    "else:\n",
    "    print(num,\"is not an  armstrong number\")"
   ]
  },
  {
   "cell_type": "code",
   "execution_count": null,
   "id": "63ee7430",
   "metadata": {},
   "outputs": [],
   "source": [
    "#6Python Program to Calculate simple interest"
   ]
  },
  {
   "cell_type": "code",
   "execution_count": 7,
   "id": "942216e4",
   "metadata": {},
   "outputs": [
    {
     "name": "stdout",
     "output_type": "stream",
     "text": [
      "Enter a principle value:456\n",
      "Enter a time of period:456\n",
      "Enter a rate of interest:456\n",
      "The principle is 456\n",
      "The time period is 456\n",
      "The rate of interest is 456\n",
      "The simple interest is 948188.16\n"
     ]
    }
   ],
   "source": [
    "def simple_interest(p,t,r):\n",
    "    print(\"The principle is\",p)\n",
    "    print(\"The time period is\",t)\n",
    "    print(\"The rate of interest is\",r)\n",
    "    \n",
    "    si=(p*t*r)/100\n",
    "    \n",
    "    print('The simple interest is',si)\n",
    "    \n",
    "p=int(input(\"Enter a principle value:\"))\n",
    "t=int(input(\"Enter a time of period:\"))\n",
    "r=int(input(\"Enter a rate of interest:\"))\n",
    "simple_interest(p,t,r)"
   ]
  },
  {
   "cell_type": "code",
   "execution_count": null,
   "id": "352e9276",
   "metadata": {},
   "outputs": [],
   "source": []
  }
 ],
 "metadata": {
  "kernelspec": {
   "display_name": "Python 3 (ipykernel)",
   "language": "python",
   "name": "python3"
  },
  "language_info": {
   "codemirror_mode": {
    "name": "ipython",
    "version": 3
   },
   "file_extension": ".py",
   "mimetype": "text/x-python",
   "name": "python",
   "nbconvert_exporter": "python",
   "pygments_lexer": "ipython3",
   "version": "3.10.9"
  }
 },
 "nbformat": 4,
 "nbformat_minor": 5
}
